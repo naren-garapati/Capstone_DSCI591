{
 "cells": [
  {
   "cell_type": "code",
   "execution_count": 1,
   "id": "98de5048-db31-495b-9778-93983ce641c0",
   "metadata": {},
   "outputs": [],
   "source": [
    "import pandas as pd\n",
    "import numpy as np\n",
    "import re\n",
    "import seaborn as sns\n",
    "import matplotlib.pyplot as plt"
   ]
  },
  {
   "cell_type": "code",
   "execution_count": 48,
   "id": "f361b1e1",
   "metadata": {},
   "outputs": [],
   "source": [
    "import pandas as pd\n",
    "import numpy as np\n",
    "import matplotlib.pyplot as plt\n",
    "import seaborn as sns\n",
    "from collections import Counter"
   ]
  },
  {
   "cell_type": "markdown",
   "id": "b3c7dcdf-4ced-4c67-a312-44968fd95290",
   "metadata": {},
   "source": [
    "## Data Acquisition\n",
    "\n",
    "### Primary Source:\n",
    "**MovieLens 1M Dataset**\n",
    "\n",
    "- `ratings.dat`: `user_id`, `movie_id`, `rating`, `timestamp`  \n",
    "- `movies.dat`: `movie_id`, `title`, `genres`  \n",
    "- `users.dat`: `user_id`, `age`, `gender`, `occupation`, `zip_code`\n",
    "\n",
    "### Enrichment:\n",
    "- Extract **movie descriptions** (e.g., from [TMDb](https://www.themoviedb.org/))\n",
    "- Derive **session/time-of-day buckets** from `timestamp` field (e.g., morning, afternoon, evening)"
   ]
  },
  {
   "cell_type": "code",
   "execution_count": 3,
   "id": "7b00cd2f-f43a-4095-ae08-8e5aa4bf586a",
   "metadata": {},
   "outputs": [],
   "source": [
    "# Load ratings.dat\n",
    "ratings = pd.read_csv(\n",
    "    './data/ratings.dat',\n",
    "    sep='::',\n",
    "    engine='python',\n",
    "    names=['user_id', 'movie_id', 'rating', 'timestamp'],\n",
    "    encoding='latin-1'\n",
    ")\n",
    "\n",
    "# Load movies.dat\n",
    "movies = pd.read_csv(\n",
    "    './data/movies.dat',\n",
    "    sep='::',\n",
    "    engine='python',\n",
    "    names=['movie_id', 'title', 'genres'],\n",
    "    encoding='latin-1'\n",
    ")\n",
    "\n",
    "# Load users.dat\n",
    "users = pd.read_csv(\n",
    "    './data/users.dat',\n",
    "    sep='::',\n",
    "    engine='python',\n",
    "    names=['userID', 'gender', 'age', 'occupation', 'zip-code'],\n",
    "    encoding='latin-1'\n",
    ")"
   ]
  },
  {
   "cell_type": "markdown",
   "id": "4e4e4218",
   "metadata": {},
   "source": [
    "#### Movies"
   ]
  },
  {
   "cell_type": "code",
   "execution_count": 4,
   "id": "efeeb208-25e0-4238-88fc-21ab31d044e0",
   "metadata": {},
   "outputs": [
    {
     "data": {
      "text/html": [
       "<div>\n",
       "<style scoped>\n",
       "    .dataframe tbody tr th:only-of-type {\n",
       "        vertical-align: middle;\n",
       "    }\n",
       "\n",
       "    .dataframe tbody tr th {\n",
       "        vertical-align: top;\n",
       "    }\n",
       "\n",
       "    .dataframe thead th {\n",
       "        text-align: right;\n",
       "    }\n",
       "</style>\n",
       "<table border=\"1\" class=\"dataframe\">\n",
       "  <thead>\n",
       "    <tr style=\"text-align: right;\">\n",
       "      <th></th>\n",
       "      <th>movie_id</th>\n",
       "      <th>title</th>\n",
       "      <th>genres</th>\n",
       "    </tr>\n",
       "  </thead>\n",
       "  <tbody>\n",
       "    <tr>\n",
       "      <th>0</th>\n",
       "      <td>1</td>\n",
       "      <td>Toy Story (1995)</td>\n",
       "      <td>Animation|Children's|Comedy</td>\n",
       "    </tr>\n",
       "    <tr>\n",
       "      <th>1</th>\n",
       "      <td>2</td>\n",
       "      <td>Jumanji (1995)</td>\n",
       "      <td>Adventure|Children's|Fantasy</td>\n",
       "    </tr>\n",
       "    <tr>\n",
       "      <th>2</th>\n",
       "      <td>3</td>\n",
       "      <td>Grumpier Old Men (1995)</td>\n",
       "      <td>Comedy|Romance</td>\n",
       "    </tr>\n",
       "    <tr>\n",
       "      <th>3</th>\n",
       "      <td>4</td>\n",
       "      <td>Waiting to Exhale (1995)</td>\n",
       "      <td>Comedy|Drama</td>\n",
       "    </tr>\n",
       "    <tr>\n",
       "      <th>4</th>\n",
       "      <td>5</td>\n",
       "      <td>Father of the Bride Part II (1995)</td>\n",
       "      <td>Comedy</td>\n",
       "    </tr>\n",
       "  </tbody>\n",
       "</table>\n",
       "</div>"
      ],
      "text/plain": [
       "   movie_id                               title                        genres\n",
       "0         1                    Toy Story (1995)   Animation|Children's|Comedy\n",
       "1         2                      Jumanji (1995)  Adventure|Children's|Fantasy\n",
       "2         3             Grumpier Old Men (1995)                Comedy|Romance\n",
       "3         4            Waiting to Exhale (1995)                  Comedy|Drama\n",
       "4         5  Father of the Bride Part II (1995)                        Comedy"
      ]
     },
     "execution_count": 4,
     "metadata": {},
     "output_type": "execute_result"
    }
   ],
   "source": [
    "movies.head()"
   ]
  },
  {
   "cell_type": "code",
   "execution_count": 5,
   "id": "55875237-0d57-4ec2-be7c-feb054ccda7a",
   "metadata": {},
   "outputs": [
    {
     "name": "stdout",
     "output_type": "stream",
     "text": [
      "<class 'pandas.core.frame.DataFrame'>\n",
      "RangeIndex: 3883 entries, 0 to 3882\n",
      "Data columns (total 3 columns):\n",
      " #   Column    Non-Null Count  Dtype \n",
      "---  ------    --------------  ----- \n",
      " 0   movie_id  3883 non-null   int64 \n",
      " 1   title     3883 non-null   object\n",
      " 2   genres    3883 non-null   object\n",
      "dtypes: int64(1), object(2)\n",
      "memory usage: 91.1+ KB\n"
     ]
    }
   ],
   "source": [
    "movies.info(verbose=True, show_counts=True)"
   ]
  },
  {
   "cell_type": "markdown",
   "id": "eaf74497",
   "metadata": {},
   "source": [
    "#### Ratings\n"
   ]
  },
  {
   "cell_type": "code",
   "execution_count": 6,
   "id": "db82575a-1fb0-497b-93db-e42e547e74f1",
   "metadata": {},
   "outputs": [
    {
     "data": {
      "text/html": [
       "<div>\n",
       "<style scoped>\n",
       "    .dataframe tbody tr th:only-of-type {\n",
       "        vertical-align: middle;\n",
       "    }\n",
       "\n",
       "    .dataframe tbody tr th {\n",
       "        vertical-align: top;\n",
       "    }\n",
       "\n",
       "    .dataframe thead th {\n",
       "        text-align: right;\n",
       "    }\n",
       "</style>\n",
       "<table border=\"1\" class=\"dataframe\">\n",
       "  <thead>\n",
       "    <tr style=\"text-align: right;\">\n",
       "      <th></th>\n",
       "      <th>user_id</th>\n",
       "      <th>movie_id</th>\n",
       "      <th>rating</th>\n",
       "      <th>timestamp</th>\n",
       "    </tr>\n",
       "  </thead>\n",
       "  <tbody>\n",
       "    <tr>\n",
       "      <th>0</th>\n",
       "      <td>1</td>\n",
       "      <td>1193</td>\n",
       "      <td>5</td>\n",
       "      <td>978300760</td>\n",
       "    </tr>\n",
       "    <tr>\n",
       "      <th>1</th>\n",
       "      <td>1</td>\n",
       "      <td>661</td>\n",
       "      <td>3</td>\n",
       "      <td>978302109</td>\n",
       "    </tr>\n",
       "    <tr>\n",
       "      <th>2</th>\n",
       "      <td>1</td>\n",
       "      <td>914</td>\n",
       "      <td>3</td>\n",
       "      <td>978301968</td>\n",
       "    </tr>\n",
       "    <tr>\n",
       "      <th>3</th>\n",
       "      <td>1</td>\n",
       "      <td>3408</td>\n",
       "      <td>4</td>\n",
       "      <td>978300275</td>\n",
       "    </tr>\n",
       "    <tr>\n",
       "      <th>4</th>\n",
       "      <td>1</td>\n",
       "      <td>2355</td>\n",
       "      <td>5</td>\n",
       "      <td>978824291</td>\n",
       "    </tr>\n",
       "  </tbody>\n",
       "</table>\n",
       "</div>"
      ],
      "text/plain": [
       "   user_id  movie_id  rating  timestamp\n",
       "0        1      1193       5  978300760\n",
       "1        1       661       3  978302109\n",
       "2        1       914       3  978301968\n",
       "3        1      3408       4  978300275\n",
       "4        1      2355       5  978824291"
      ]
     },
     "execution_count": 6,
     "metadata": {},
     "output_type": "execute_result"
    }
   ],
   "source": [
    "ratings.head()"
   ]
  },
  {
   "cell_type": "code",
   "execution_count": 7,
   "id": "781c3168-27eb-4f8d-b71a-3dad4bf0ca57",
   "metadata": {},
   "outputs": [
    {
     "name": "stdout",
     "output_type": "stream",
     "text": [
      "<class 'pandas.core.frame.DataFrame'>\n",
      "RangeIndex: 1000209 entries, 0 to 1000208\n",
      "Data columns (total 4 columns):\n",
      " #   Column     Non-Null Count    Dtype\n",
      "---  ------     --------------    -----\n",
      " 0   user_id    1000209 non-null  int64\n",
      " 1   movie_id   1000209 non-null  int64\n",
      " 2   rating     1000209 non-null  int64\n",
      " 3   timestamp  1000209 non-null  int64\n",
      "dtypes: int64(4)\n",
      "memory usage: 30.5 MB\n"
     ]
    }
   ],
   "source": [
    "ratings.info(verbose=True, show_counts=True)"
   ]
  },
  {
   "cell_type": "code",
   "execution_count": 8,
   "id": "a8728211-0d88-46d5-b27b-0c9662df4ca1",
   "metadata": {},
   "outputs": [
    {
     "data": {
      "text/html": [
       "<div>\n",
       "<style scoped>\n",
       "    .dataframe tbody tr th:only-of-type {\n",
       "        vertical-align: middle;\n",
       "    }\n",
       "\n",
       "    .dataframe tbody tr th {\n",
       "        vertical-align: top;\n",
       "    }\n",
       "\n",
       "    .dataframe thead th {\n",
       "        text-align: right;\n",
       "    }\n",
       "</style>\n",
       "<table border=\"1\" class=\"dataframe\">\n",
       "  <thead>\n",
       "    <tr style=\"text-align: right;\">\n",
       "      <th></th>\n",
       "      <th>user_id</th>\n",
       "      <th>movie_id</th>\n",
       "      <th>rating</th>\n",
       "      <th>timestamp</th>\n",
       "    </tr>\n",
       "  </thead>\n",
       "  <tbody>\n",
       "    <tr>\n",
       "      <th>count</th>\n",
       "      <td>1.000209e+06</td>\n",
       "      <td>1.000209e+06</td>\n",
       "      <td>1.000209e+06</td>\n",
       "      <td>1.000209e+06</td>\n",
       "    </tr>\n",
       "    <tr>\n",
       "      <th>mean</th>\n",
       "      <td>3.024512e+03</td>\n",
       "      <td>1.865540e+03</td>\n",
       "      <td>3.581564e+00</td>\n",
       "      <td>9.722437e+08</td>\n",
       "    </tr>\n",
       "    <tr>\n",
       "      <th>std</th>\n",
       "      <td>1.728413e+03</td>\n",
       "      <td>1.096041e+03</td>\n",
       "      <td>1.117102e+00</td>\n",
       "      <td>1.215256e+07</td>\n",
       "    </tr>\n",
       "    <tr>\n",
       "      <th>min</th>\n",
       "      <td>1.000000e+00</td>\n",
       "      <td>1.000000e+00</td>\n",
       "      <td>1.000000e+00</td>\n",
       "      <td>9.567039e+08</td>\n",
       "    </tr>\n",
       "    <tr>\n",
       "      <th>25%</th>\n",
       "      <td>1.506000e+03</td>\n",
       "      <td>1.030000e+03</td>\n",
       "      <td>3.000000e+00</td>\n",
       "      <td>9.653026e+08</td>\n",
       "    </tr>\n",
       "    <tr>\n",
       "      <th>50%</th>\n",
       "      <td>3.070000e+03</td>\n",
       "      <td>1.835000e+03</td>\n",
       "      <td>4.000000e+00</td>\n",
       "      <td>9.730180e+08</td>\n",
       "    </tr>\n",
       "    <tr>\n",
       "      <th>75%</th>\n",
       "      <td>4.476000e+03</td>\n",
       "      <td>2.770000e+03</td>\n",
       "      <td>4.000000e+00</td>\n",
       "      <td>9.752209e+08</td>\n",
       "    </tr>\n",
       "    <tr>\n",
       "      <th>max</th>\n",
       "      <td>6.040000e+03</td>\n",
       "      <td>3.952000e+03</td>\n",
       "      <td>5.000000e+00</td>\n",
       "      <td>1.046455e+09</td>\n",
       "    </tr>\n",
       "  </tbody>\n",
       "</table>\n",
       "</div>"
      ],
      "text/plain": [
       "            user_id      movie_id        rating     timestamp\n",
       "count  1.000209e+06  1.000209e+06  1.000209e+06  1.000209e+06\n",
       "mean   3.024512e+03  1.865540e+03  3.581564e+00  9.722437e+08\n",
       "std    1.728413e+03  1.096041e+03  1.117102e+00  1.215256e+07\n",
       "min    1.000000e+00  1.000000e+00  1.000000e+00  9.567039e+08\n",
       "25%    1.506000e+03  1.030000e+03  3.000000e+00  9.653026e+08\n",
       "50%    3.070000e+03  1.835000e+03  4.000000e+00  9.730180e+08\n",
       "75%    4.476000e+03  2.770000e+03  4.000000e+00  9.752209e+08\n",
       "max    6.040000e+03  3.952000e+03  5.000000e+00  1.046455e+09"
      ]
     },
     "execution_count": 8,
     "metadata": {},
     "output_type": "execute_result"
    }
   ],
   "source": [
    "ratings.describe()"
   ]
  },
  {
   "cell_type": "markdown",
   "id": "b7ae41d2",
   "metadata": {},
   "source": [
    "#### Users\n"
   ]
  },
  {
   "cell_type": "code",
   "execution_count": 47,
   "id": "2129707d",
   "metadata": {},
   "outputs": [
    {
     "data": {
      "text/html": [
       "<div>\n",
       "<style scoped>\n",
       "    .dataframe tbody tr th:only-of-type {\n",
       "        vertical-align: middle;\n",
       "    }\n",
       "\n",
       "    .dataframe tbody tr th {\n",
       "        vertical-align: top;\n",
       "    }\n",
       "\n",
       "    .dataframe thead th {\n",
       "        text-align: right;\n",
       "    }\n",
       "</style>\n",
       "<table border=\"1\" class=\"dataframe\">\n",
       "  <thead>\n",
       "    <tr style=\"text-align: right;\">\n",
       "      <th></th>\n",
       "      <th>user_id</th>\n",
       "      <th>gender</th>\n",
       "      <th>age</th>\n",
       "      <th>occupation</th>\n",
       "      <th>zip-code</th>\n",
       "    </tr>\n",
       "  </thead>\n",
       "  <tbody>\n",
       "    <tr>\n",
       "      <th>0</th>\n",
       "      <td>1</td>\n",
       "      <td>F</td>\n",
       "      <td>1</td>\n",
       "      <td>10</td>\n",
       "      <td>48067</td>\n",
       "    </tr>\n",
       "    <tr>\n",
       "      <th>1</th>\n",
       "      <td>2</td>\n",
       "      <td>M</td>\n",
       "      <td>56</td>\n",
       "      <td>16</td>\n",
       "      <td>70072</td>\n",
       "    </tr>\n",
       "    <tr>\n",
       "      <th>2</th>\n",
       "      <td>3</td>\n",
       "      <td>M</td>\n",
       "      <td>25</td>\n",
       "      <td>15</td>\n",
       "      <td>55117</td>\n",
       "    </tr>\n",
       "    <tr>\n",
       "      <th>3</th>\n",
       "      <td>4</td>\n",
       "      <td>M</td>\n",
       "      <td>45</td>\n",
       "      <td>7</td>\n",
       "      <td>02460</td>\n",
       "    </tr>\n",
       "    <tr>\n",
       "      <th>4</th>\n",
       "      <td>5</td>\n",
       "      <td>M</td>\n",
       "      <td>25</td>\n",
       "      <td>20</td>\n",
       "      <td>55455</td>\n",
       "    </tr>\n",
       "  </tbody>\n",
       "</table>\n",
       "</div>"
      ],
      "text/plain": [
       "   user_id gender  age  occupation zip-code\n",
       "0        1      F    1          10    48067\n",
       "1        2      M   56          16    70072\n",
       "2        3      M   25          15    55117\n",
       "3        4      M   45           7    02460\n",
       "4        5      M   25          20    55455"
      ]
     },
     "execution_count": 47,
     "metadata": {},
     "output_type": "execute_result"
    }
   ],
   "source": [
    "users.head()"
   ]
  },
  {
   "cell_type": "code",
   "execution_count": 9,
   "id": "a0b0ce4e-e4d4-4dda-b507-46b0cf6c06cf",
   "metadata": {},
   "outputs": [
    {
     "name": "stdout",
     "output_type": "stream",
     "text": [
      "<class 'pandas.core.frame.DataFrame'>\n",
      "RangeIndex: 6040 entries, 0 to 6039\n",
      "Data columns (total 5 columns):\n",
      " #   Column      Non-Null Count  Dtype \n",
      "---  ------      --------------  ----- \n",
      " 0   userID      6040 non-null   int64 \n",
      " 1   gender      6040 non-null   object\n",
      " 2   age         6040 non-null   int64 \n",
      " 3   occupation  6040 non-null   int64 \n",
      " 4   zip-code    6040 non-null   object\n",
      "dtypes: int64(3), object(2)\n",
      "memory usage: 236.1+ KB\n"
     ]
    }
   ],
   "source": [
    "users.info(verbose=True, show_counts=True)"
   ]
  },
  {
   "cell_type": "code",
   "execution_count": 10,
   "id": "664c72f8-a151-47e6-9c98-905cc8fca7b9",
   "metadata": {},
   "outputs": [
    {
     "data": {
      "text/html": [
       "<div>\n",
       "<style scoped>\n",
       "    .dataframe tbody tr th:only-of-type {\n",
       "        vertical-align: middle;\n",
       "    }\n",
       "\n",
       "    .dataframe tbody tr th {\n",
       "        vertical-align: top;\n",
       "    }\n",
       "\n",
       "    .dataframe thead th {\n",
       "        text-align: right;\n",
       "    }\n",
       "</style>\n",
       "<table border=\"1\" class=\"dataframe\">\n",
       "  <thead>\n",
       "    <tr style=\"text-align: right;\">\n",
       "      <th></th>\n",
       "      <th>userID</th>\n",
       "      <th>age</th>\n",
       "      <th>occupation</th>\n",
       "    </tr>\n",
       "  </thead>\n",
       "  <tbody>\n",
       "    <tr>\n",
       "      <th>count</th>\n",
       "      <td>6040.000000</td>\n",
       "      <td>6040.000000</td>\n",
       "      <td>6040.000000</td>\n",
       "    </tr>\n",
       "    <tr>\n",
       "      <th>mean</th>\n",
       "      <td>3020.500000</td>\n",
       "      <td>30.639238</td>\n",
       "      <td>8.146854</td>\n",
       "    </tr>\n",
       "    <tr>\n",
       "      <th>std</th>\n",
       "      <td>1743.742145</td>\n",
       "      <td>12.895962</td>\n",
       "      <td>6.329511</td>\n",
       "    </tr>\n",
       "    <tr>\n",
       "      <th>min</th>\n",
       "      <td>1.000000</td>\n",
       "      <td>1.000000</td>\n",
       "      <td>0.000000</td>\n",
       "    </tr>\n",
       "    <tr>\n",
       "      <th>25%</th>\n",
       "      <td>1510.750000</td>\n",
       "      <td>25.000000</td>\n",
       "      <td>3.000000</td>\n",
       "    </tr>\n",
       "    <tr>\n",
       "      <th>50%</th>\n",
       "      <td>3020.500000</td>\n",
       "      <td>25.000000</td>\n",
       "      <td>7.000000</td>\n",
       "    </tr>\n",
       "    <tr>\n",
       "      <th>75%</th>\n",
       "      <td>4530.250000</td>\n",
       "      <td>35.000000</td>\n",
       "      <td>14.000000</td>\n",
       "    </tr>\n",
       "    <tr>\n",
       "      <th>max</th>\n",
       "      <td>6040.000000</td>\n",
       "      <td>56.000000</td>\n",
       "      <td>20.000000</td>\n",
       "    </tr>\n",
       "  </tbody>\n",
       "</table>\n",
       "</div>"
      ],
      "text/plain": [
       "            userID          age   occupation\n",
       "count  6040.000000  6040.000000  6040.000000\n",
       "mean   3020.500000    30.639238     8.146854\n",
       "std    1743.742145    12.895962     6.329511\n",
       "min       1.000000     1.000000     0.000000\n",
       "25%    1510.750000    25.000000     3.000000\n",
       "50%    3020.500000    25.000000     7.000000\n",
       "75%    4530.250000    35.000000    14.000000\n",
       "max    6040.000000    56.000000    20.000000"
      ]
     },
     "execution_count": 10,
     "metadata": {},
     "output_type": "execute_result"
    }
   ],
   "source": [
    "users.describe()"
   ]
  },
  {
   "cell_type": "markdown",
   "id": "40ccce1d-c1ec-4fee-a685-823078dbcf52",
   "metadata": {},
   "source": [
    "## Preprocessing Steps\n",
    "\n",
    "- Convert `timestamp` to `datetime`, and extract:\n",
    "  - `hour`, `dayofweek`, and `time_bucket` (e.g., morning, afternoon)\n",
    "  \n",
    "- One-hot encode **genres** (multi-label)\n",
    "\n",
    "- Clean or standardize **movie titles** (e.g., remove year, trim whitespace)\n",
    "\n",
    "- Filter out **users and movies** with very few interactions (e.g., fewer than 10 ratings)\n",
    "\n",
    "- Normalize ratings if needed (e.g., **mean-centering** for matrix factorization)"
   ]
  },
  {
   "cell_type": "code",
   "execution_count": 11,
   "id": "3d8601c5-aa06-4df0-b047-ad6db1e5c9ae",
   "metadata": {},
   "outputs": [
    {
     "data": {
      "text/html": [
       "<div>\n",
       "<style scoped>\n",
       "    .dataframe tbody tr th:only-of-type {\n",
       "        vertical-align: middle;\n",
       "    }\n",
       "\n",
       "    .dataframe tbody tr th {\n",
       "        vertical-align: top;\n",
       "    }\n",
       "\n",
       "    .dataframe thead th {\n",
       "        text-align: right;\n",
       "    }\n",
       "</style>\n",
       "<table border=\"1\" class=\"dataframe\">\n",
       "  <thead>\n",
       "    <tr style=\"text-align: right;\">\n",
       "      <th></th>\n",
       "      <th>userID</th>\n",
       "      <th>gender</th>\n",
       "      <th>age</th>\n",
       "      <th>occupation</th>\n",
       "      <th>zip-code</th>\n",
       "    </tr>\n",
       "  </thead>\n",
       "  <tbody>\n",
       "    <tr>\n",
       "      <th>0</th>\n",
       "      <td>1</td>\n",
       "      <td>F</td>\n",
       "      <td>1</td>\n",
       "      <td>10</td>\n",
       "      <td>48067</td>\n",
       "    </tr>\n",
       "    <tr>\n",
       "      <th>1</th>\n",
       "      <td>2</td>\n",
       "      <td>M</td>\n",
       "      <td>56</td>\n",
       "      <td>16</td>\n",
       "      <td>70072</td>\n",
       "    </tr>\n",
       "    <tr>\n",
       "      <th>2</th>\n",
       "      <td>3</td>\n",
       "      <td>M</td>\n",
       "      <td>25</td>\n",
       "      <td>15</td>\n",
       "      <td>55117</td>\n",
       "    </tr>\n",
       "    <tr>\n",
       "      <th>3</th>\n",
       "      <td>4</td>\n",
       "      <td>M</td>\n",
       "      <td>45</td>\n",
       "      <td>7</td>\n",
       "      <td>02460</td>\n",
       "    </tr>\n",
       "    <tr>\n",
       "      <th>4</th>\n",
       "      <td>5</td>\n",
       "      <td>M</td>\n",
       "      <td>25</td>\n",
       "      <td>20</td>\n",
       "      <td>55455</td>\n",
       "    </tr>\n",
       "  </tbody>\n",
       "</table>\n",
       "</div>"
      ],
      "text/plain": [
       "   userID gender  age  occupation zip-code\n",
       "0       1      F    1          10    48067\n",
       "1       2      M   56          16    70072\n",
       "2       3      M   25          15    55117\n",
       "3       4      M   45           7    02460\n",
       "4       5      M   25          20    55455"
      ]
     },
     "execution_count": 11,
     "metadata": {},
     "output_type": "execute_result"
    }
   ],
   "source": [
    "users.head()"
   ]
  },
  {
   "cell_type": "code",
   "execution_count": 12,
   "id": "5360f25d-ed50-4bb4-a044-f003075cd02a",
   "metadata": {},
   "outputs": [
    {
     "name": "stdout",
     "output_type": "stream",
     "text": [
      "Duplicate rows in ratings: 0\n",
      "Duplicate rows in movies: 0\n",
      "Duplicate rows in users: 0\n"
     ]
    }
   ],
   "source": [
    "# Check for duplicates in ratings\n",
    "print(\"Duplicate rows in ratings:\", ratings.duplicated().sum())\n",
    "\n",
    "# Check for duplicates in movies\n",
    "print(\"Duplicate rows in movies:\", movies.duplicated().sum())\n",
    "\n",
    "# Check for duplicates in users\n",
    "print(\"Duplicate rows in users:\", users.duplicated().sum())"
   ]
  },
  {
   "cell_type": "code",
   "execution_count": 13,
   "id": "599258d7-5238-4973-a301-a679d6590a85",
   "metadata": {},
   "outputs": [
    {
     "data": {
      "text/plain": [
       "1"
      ]
     },
     "execution_count": 13,
     "metadata": {},
     "output_type": "execute_result"
    }
   ],
   "source": [
    "#check repeated ratings for any (user, movie) pair\n",
    "ratings.groupby(['user_id', 'movie_id']).size().max()"
   ]
  },
  {
   "cell_type": "markdown",
   "id": "e3b06f45-a18d-41a0-9f61-75876cd8994c",
   "metadata": {},
   "source": [
    "No user rated the same movie more than once in the dataset"
   ]
  },
  {
   "cell_type": "code",
   "execution_count": 14,
   "id": "f797d667-7b4c-4c52-b628-3d1c4d83d605",
   "metadata": {},
   "outputs": [],
   "source": [
    "# Define function to map hour to time_bucket\n",
    "def get_time_bucket(hour):\n",
    "    if 6 <= hour < 12:\n",
    "        return 'morning'\n",
    "    elif 12 <= hour < 17:\n",
    "        return 'afternoon'\n",
    "    elif 17 <= hour < 21:\n",
    "        return 'evening'\n",
    "    else:\n",
    "        return 'night'"
   ]
  },
  {
   "cell_type": "code",
   "execution_count": 15,
   "id": "f04ae7b3-53eb-4353-a11f-262e4634e5b2",
   "metadata": {},
   "outputs": [],
   "source": [
    "# Convert UNIX timestamp to datetime\n",
    "ratings['datetime'] = pd.to_datetime(ratings['timestamp'], unit='s')\n",
    "\n",
    "# Extract hour and day of week\n",
    "ratings['hour'] = ratings['datetime'].dt.hour\n",
    "ratings['dayofweek'] = ratings['datetime'].dt.dayofweek  # 0=Monday, 6=Sunday\n",
    "\n",
    "# Apply time bucket mapping\n",
    "ratings['time_bucket'] = ratings['hour'].apply(get_time_bucket)"
   ]
  },
  {
   "cell_type": "code",
   "execution_count": 16,
   "id": "55c5540e-84e5-4f54-bd94-8a008fddb556",
   "metadata": {},
   "outputs": [
    {
     "data": {
      "text/html": [
       "<div>\n",
       "<style scoped>\n",
       "    .dataframe tbody tr th:only-of-type {\n",
       "        vertical-align: middle;\n",
       "    }\n",
       "\n",
       "    .dataframe tbody tr th {\n",
       "        vertical-align: top;\n",
       "    }\n",
       "\n",
       "    .dataframe thead th {\n",
       "        text-align: right;\n",
       "    }\n",
       "</style>\n",
       "<table border=\"1\" class=\"dataframe\">\n",
       "  <thead>\n",
       "    <tr style=\"text-align: right;\">\n",
       "      <th></th>\n",
       "      <th>user_id</th>\n",
       "      <th>movie_id</th>\n",
       "      <th>rating</th>\n",
       "      <th>timestamp</th>\n",
       "      <th>datetime</th>\n",
       "      <th>hour</th>\n",
       "      <th>dayofweek</th>\n",
       "      <th>time_bucket</th>\n",
       "    </tr>\n",
       "  </thead>\n",
       "  <tbody>\n",
       "    <tr>\n",
       "      <th>0</th>\n",
       "      <td>1</td>\n",
       "      <td>1193</td>\n",
       "      <td>5</td>\n",
       "      <td>978300760</td>\n",
       "      <td>2000-12-31 22:12:40</td>\n",
       "      <td>22</td>\n",
       "      <td>6</td>\n",
       "      <td>night</td>\n",
       "    </tr>\n",
       "    <tr>\n",
       "      <th>1</th>\n",
       "      <td>1</td>\n",
       "      <td>661</td>\n",
       "      <td>3</td>\n",
       "      <td>978302109</td>\n",
       "      <td>2000-12-31 22:35:09</td>\n",
       "      <td>22</td>\n",
       "      <td>6</td>\n",
       "      <td>night</td>\n",
       "    </tr>\n",
       "    <tr>\n",
       "      <th>2</th>\n",
       "      <td>1</td>\n",
       "      <td>914</td>\n",
       "      <td>3</td>\n",
       "      <td>978301968</td>\n",
       "      <td>2000-12-31 22:32:48</td>\n",
       "      <td>22</td>\n",
       "      <td>6</td>\n",
       "      <td>night</td>\n",
       "    </tr>\n",
       "    <tr>\n",
       "      <th>3</th>\n",
       "      <td>1</td>\n",
       "      <td>3408</td>\n",
       "      <td>4</td>\n",
       "      <td>978300275</td>\n",
       "      <td>2000-12-31 22:04:35</td>\n",
       "      <td>22</td>\n",
       "      <td>6</td>\n",
       "      <td>night</td>\n",
       "    </tr>\n",
       "    <tr>\n",
       "      <th>4</th>\n",
       "      <td>1</td>\n",
       "      <td>2355</td>\n",
       "      <td>5</td>\n",
       "      <td>978824291</td>\n",
       "      <td>2001-01-06 23:38:11</td>\n",
       "      <td>23</td>\n",
       "      <td>5</td>\n",
       "      <td>night</td>\n",
       "    </tr>\n",
       "  </tbody>\n",
       "</table>\n",
       "</div>"
      ],
      "text/plain": [
       "   user_id  movie_id  rating  timestamp            datetime  hour  dayofweek  \\\n",
       "0        1      1193       5  978300760 2000-12-31 22:12:40    22          6   \n",
       "1        1       661       3  978302109 2000-12-31 22:35:09    22          6   \n",
       "2        1       914       3  978301968 2000-12-31 22:32:48    22          6   \n",
       "3        1      3408       4  978300275 2000-12-31 22:04:35    22          6   \n",
       "4        1      2355       5  978824291 2001-01-06 23:38:11    23          5   \n",
       "\n",
       "  time_bucket  \n",
       "0       night  \n",
       "1       night  \n",
       "2       night  \n",
       "3       night  \n",
       "4       night  "
      ]
     },
     "execution_count": 16,
     "metadata": {},
     "output_type": "execute_result"
    }
   ],
   "source": [
    "ratings.head()"
   ]
  },
  {
   "cell_type": "code",
   "execution_count": 17,
   "id": "13a470c1-4fca-4418-b457-1325e1e8edce",
   "metadata": {},
   "outputs": [
    {
     "name": "stdout",
     "output_type": "stream",
     "text": [
      "<class 'pandas.core.frame.DataFrame'>\n",
      "RangeIndex: 1000209 entries, 0 to 1000208\n",
      "Data columns (total 8 columns):\n",
      " #   Column       Non-Null Count    Dtype         \n",
      "---  ------       --------------    -----         \n",
      " 0   user_id      1000209 non-null  int64         \n",
      " 1   movie_id     1000209 non-null  int64         \n",
      " 2   rating       1000209 non-null  int64         \n",
      " 3   timestamp    1000209 non-null  int64         \n",
      " 4   datetime     1000209 non-null  datetime64[ns]\n",
      " 5   hour         1000209 non-null  int32         \n",
      " 6   dayofweek    1000209 non-null  int32         \n",
      " 7   time_bucket  1000209 non-null  object        \n",
      "dtypes: datetime64[ns](1), int32(2), int64(4), object(1)\n",
      "memory usage: 53.4+ MB\n"
     ]
    }
   ],
   "source": [
    "ratings.info()"
   ]
  },
  {
   "cell_type": "code",
   "execution_count": 18,
   "id": "173ad8fe-dd5f-44ca-849b-dc019779a10f",
   "metadata": {},
   "outputs": [],
   "source": [
    "# Split genres by pipe \n",
    "genre_codes = movies['genres'].str.get_dummies(sep='|')\n",
    "\n",
    "# Join the one-hot genre columns back to the movies DataFrame\n",
    "movies = pd.concat([movies, genre_codes], axis=1)"
   ]
  },
  {
   "cell_type": "code",
   "execution_count": 19,
   "id": "ab852c96-1fc3-48ee-a896-909263fdf066",
   "metadata": {},
   "outputs": [],
   "source": [
    "# Extract year using regex \n",
    "movies['year'] = pd.to_numeric(movies['title'].str.extract(r'\\((\\d{4})\\)')[0], errors='coerce').astype('Int64')"
   ]
  },
  {
   "cell_type": "code",
   "execution_count": 20,
   "id": "6e74ddae-1665-4298-9f83-e76b4c83d63a",
   "metadata": {},
   "outputs": [
    {
     "data": {
      "text/html": [
       "<div>\n",
       "<style scoped>\n",
       "    .dataframe tbody tr th:only-of-type {\n",
       "        vertical-align: middle;\n",
       "    }\n",
       "\n",
       "    .dataframe tbody tr th {\n",
       "        vertical-align: top;\n",
       "    }\n",
       "\n",
       "    .dataframe thead th {\n",
       "        text-align: right;\n",
       "    }\n",
       "</style>\n",
       "<table border=\"1\" class=\"dataframe\">\n",
       "  <thead>\n",
       "    <tr style=\"text-align: right;\">\n",
       "      <th></th>\n",
       "      <th>movie_id</th>\n",
       "      <th>title</th>\n",
       "      <th>genres</th>\n",
       "      <th>Action</th>\n",
       "      <th>Adventure</th>\n",
       "      <th>Animation</th>\n",
       "      <th>Children's</th>\n",
       "      <th>Comedy</th>\n",
       "      <th>Crime</th>\n",
       "      <th>Documentary</th>\n",
       "      <th>...</th>\n",
       "      <th>Film-Noir</th>\n",
       "      <th>Horror</th>\n",
       "      <th>Musical</th>\n",
       "      <th>Mystery</th>\n",
       "      <th>Romance</th>\n",
       "      <th>Sci-Fi</th>\n",
       "      <th>Thriller</th>\n",
       "      <th>War</th>\n",
       "      <th>Western</th>\n",
       "      <th>year</th>\n",
       "    </tr>\n",
       "  </thead>\n",
       "  <tbody>\n",
       "    <tr>\n",
       "      <th>0</th>\n",
       "      <td>1</td>\n",
       "      <td>Toy Story (1995)</td>\n",
       "      <td>Animation|Children's|Comedy</td>\n",
       "      <td>0</td>\n",
       "      <td>0</td>\n",
       "      <td>1</td>\n",
       "      <td>1</td>\n",
       "      <td>1</td>\n",
       "      <td>0</td>\n",
       "      <td>0</td>\n",
       "      <td>...</td>\n",
       "      <td>0</td>\n",
       "      <td>0</td>\n",
       "      <td>0</td>\n",
       "      <td>0</td>\n",
       "      <td>0</td>\n",
       "      <td>0</td>\n",
       "      <td>0</td>\n",
       "      <td>0</td>\n",
       "      <td>0</td>\n",
       "      <td>1995</td>\n",
       "    </tr>\n",
       "    <tr>\n",
       "      <th>1</th>\n",
       "      <td>2</td>\n",
       "      <td>Jumanji (1995)</td>\n",
       "      <td>Adventure|Children's|Fantasy</td>\n",
       "      <td>0</td>\n",
       "      <td>1</td>\n",
       "      <td>0</td>\n",
       "      <td>1</td>\n",
       "      <td>0</td>\n",
       "      <td>0</td>\n",
       "      <td>0</td>\n",
       "      <td>...</td>\n",
       "      <td>0</td>\n",
       "      <td>0</td>\n",
       "      <td>0</td>\n",
       "      <td>0</td>\n",
       "      <td>0</td>\n",
       "      <td>0</td>\n",
       "      <td>0</td>\n",
       "      <td>0</td>\n",
       "      <td>0</td>\n",
       "      <td>1995</td>\n",
       "    </tr>\n",
       "    <tr>\n",
       "      <th>2</th>\n",
       "      <td>3</td>\n",
       "      <td>Grumpier Old Men (1995)</td>\n",
       "      <td>Comedy|Romance</td>\n",
       "      <td>0</td>\n",
       "      <td>0</td>\n",
       "      <td>0</td>\n",
       "      <td>0</td>\n",
       "      <td>1</td>\n",
       "      <td>0</td>\n",
       "      <td>0</td>\n",
       "      <td>...</td>\n",
       "      <td>0</td>\n",
       "      <td>0</td>\n",
       "      <td>0</td>\n",
       "      <td>0</td>\n",
       "      <td>1</td>\n",
       "      <td>0</td>\n",
       "      <td>0</td>\n",
       "      <td>0</td>\n",
       "      <td>0</td>\n",
       "      <td>1995</td>\n",
       "    </tr>\n",
       "    <tr>\n",
       "      <th>3</th>\n",
       "      <td>4</td>\n",
       "      <td>Waiting to Exhale (1995)</td>\n",
       "      <td>Comedy|Drama</td>\n",
       "      <td>0</td>\n",
       "      <td>0</td>\n",
       "      <td>0</td>\n",
       "      <td>0</td>\n",
       "      <td>1</td>\n",
       "      <td>0</td>\n",
       "      <td>0</td>\n",
       "      <td>...</td>\n",
       "      <td>0</td>\n",
       "      <td>0</td>\n",
       "      <td>0</td>\n",
       "      <td>0</td>\n",
       "      <td>0</td>\n",
       "      <td>0</td>\n",
       "      <td>0</td>\n",
       "      <td>0</td>\n",
       "      <td>0</td>\n",
       "      <td>1995</td>\n",
       "    </tr>\n",
       "    <tr>\n",
       "      <th>4</th>\n",
       "      <td>5</td>\n",
       "      <td>Father of the Bride Part II (1995)</td>\n",
       "      <td>Comedy</td>\n",
       "      <td>0</td>\n",
       "      <td>0</td>\n",
       "      <td>0</td>\n",
       "      <td>0</td>\n",
       "      <td>1</td>\n",
       "      <td>0</td>\n",
       "      <td>0</td>\n",
       "      <td>...</td>\n",
       "      <td>0</td>\n",
       "      <td>0</td>\n",
       "      <td>0</td>\n",
       "      <td>0</td>\n",
       "      <td>0</td>\n",
       "      <td>0</td>\n",
       "      <td>0</td>\n",
       "      <td>0</td>\n",
       "      <td>0</td>\n",
       "      <td>1995</td>\n",
       "    </tr>\n",
       "  </tbody>\n",
       "</table>\n",
       "<p>5 rows × 22 columns</p>\n",
       "</div>"
      ],
      "text/plain": [
       "   movie_id                               title                        genres  \\\n",
       "0         1                    Toy Story (1995)   Animation|Children's|Comedy   \n",
       "1         2                      Jumanji (1995)  Adventure|Children's|Fantasy   \n",
       "2         3             Grumpier Old Men (1995)                Comedy|Romance   \n",
       "3         4            Waiting to Exhale (1995)                  Comedy|Drama   \n",
       "4         5  Father of the Bride Part II (1995)                        Comedy   \n",
       "\n",
       "   Action  Adventure  Animation  Children's  Comedy  Crime  Documentary  ...  \\\n",
       "0       0          0          1           1       1      0            0  ...   \n",
       "1       0          1          0           1       0      0            0  ...   \n",
       "2       0          0          0           0       1      0            0  ...   \n",
       "3       0          0          0           0       1      0            0  ...   \n",
       "4       0          0          0           0       1      0            0  ...   \n",
       "\n",
       "   Film-Noir  Horror  Musical  Mystery  Romance  Sci-Fi  Thriller  War  \\\n",
       "0          0       0        0        0        0       0         0    0   \n",
       "1          0       0        0        0        0       0         0    0   \n",
       "2          0       0        0        0        1       0         0    0   \n",
       "3          0       0        0        0        0       0         0    0   \n",
       "4          0       0        0        0        0       0         0    0   \n",
       "\n",
       "   Western  year  \n",
       "0        0  1995  \n",
       "1        0  1995  \n",
       "2        0  1995  \n",
       "3        0  1995  \n",
       "4        0  1995  \n",
       "\n",
       "[5 rows x 22 columns]"
      ]
     },
     "execution_count": 20,
     "metadata": {},
     "output_type": "execute_result"
    }
   ],
   "source": [
    "movies.head()"
   ]
  },
  {
   "cell_type": "code",
   "execution_count": 21,
   "id": "ca455ac2-9072-46f9-ad4b-588974200353",
   "metadata": {},
   "outputs": [
    {
     "name": "stdout",
     "output_type": "stream",
     "text": [
      "<class 'pandas.core.frame.DataFrame'>\n",
      "RangeIndex: 3883 entries, 0 to 3882\n",
      "Data columns (total 22 columns):\n",
      " #   Column       Non-Null Count  Dtype \n",
      "---  ------       --------------  ----- \n",
      " 0   movie_id     3883 non-null   int64 \n",
      " 1   title        3883 non-null   object\n",
      " 2   genres       3883 non-null   object\n",
      " 3   Action       3883 non-null   int64 \n",
      " 4   Adventure    3883 non-null   int64 \n",
      " 5   Animation    3883 non-null   int64 \n",
      " 6   Children's   3883 non-null   int64 \n",
      " 7   Comedy       3883 non-null   int64 \n",
      " 8   Crime        3883 non-null   int64 \n",
      " 9   Documentary  3883 non-null   int64 \n",
      " 10  Drama        3883 non-null   int64 \n",
      " 11  Fantasy      3883 non-null   int64 \n",
      " 12  Film-Noir    3883 non-null   int64 \n",
      " 13  Horror       3883 non-null   int64 \n",
      " 14  Musical      3883 non-null   int64 \n",
      " 15  Mystery      3883 non-null   int64 \n",
      " 16  Romance      3883 non-null   int64 \n",
      " 17  Sci-Fi       3883 non-null   int64 \n",
      " 18  Thriller     3883 non-null   int64 \n",
      " 19  War          3883 non-null   int64 \n",
      " 20  Western      3883 non-null   int64 \n",
      " 21  year         3883 non-null   Int64 \n",
      "dtypes: Int64(1), int64(19), object(2)\n",
      "memory usage: 671.3+ KB\n"
     ]
    }
   ],
   "source": [
    "movies.info()"
   ]
  },
  {
   "cell_type": "code",
   "execution_count": 22,
   "id": "aa4906b1-8332-48fc-b3b2-5c499ae9bbed",
   "metadata": {},
   "outputs": [
    {
     "data": {
      "text/html": [
       "<div>\n",
       "<style scoped>\n",
       "    .dataframe tbody tr th:only-of-type {\n",
       "        vertical-align: middle;\n",
       "    }\n",
       "\n",
       "    .dataframe tbody tr th {\n",
       "        vertical-align: top;\n",
       "    }\n",
       "\n",
       "    .dataframe thead th {\n",
       "        text-align: right;\n",
       "    }\n",
       "</style>\n",
       "<table border=\"1\" class=\"dataframe\">\n",
       "  <thead>\n",
       "    <tr style=\"text-align: right;\">\n",
       "      <th></th>\n",
       "      <th>movie_id</th>\n",
       "      <th>Action</th>\n",
       "      <th>Adventure</th>\n",
       "      <th>Animation</th>\n",
       "      <th>Children's</th>\n",
       "      <th>Comedy</th>\n",
       "      <th>Crime</th>\n",
       "      <th>Documentary</th>\n",
       "      <th>Drama</th>\n",
       "      <th>Fantasy</th>\n",
       "      <th>Film-Noir</th>\n",
       "      <th>Horror</th>\n",
       "      <th>Musical</th>\n",
       "      <th>Mystery</th>\n",
       "      <th>Romance</th>\n",
       "      <th>Sci-Fi</th>\n",
       "      <th>Thriller</th>\n",
       "      <th>War</th>\n",
       "      <th>Western</th>\n",
       "      <th>year</th>\n",
       "    </tr>\n",
       "  </thead>\n",
       "  <tbody>\n",
       "    <tr>\n",
       "      <th>count</th>\n",
       "      <td>3883.000000</td>\n",
       "      <td>3883.000000</td>\n",
       "      <td>3883.000000</td>\n",
       "      <td>3883.000000</td>\n",
       "      <td>3883.000000</td>\n",
       "      <td>3883.000000</td>\n",
       "      <td>3883.000000</td>\n",
       "      <td>3883.000000</td>\n",
       "      <td>3883.000000</td>\n",
       "      <td>3883.000000</td>\n",
       "      <td>3883.000000</td>\n",
       "      <td>3883.000000</td>\n",
       "      <td>3883.000000</td>\n",
       "      <td>3883.000000</td>\n",
       "      <td>3883.000000</td>\n",
       "      <td>3883.000000</td>\n",
       "      <td>3883.000000</td>\n",
       "      <td>3883.000000</td>\n",
       "      <td>3883.000000</td>\n",
       "      <td>3883.0</td>\n",
       "    </tr>\n",
       "    <tr>\n",
       "      <th>mean</th>\n",
       "      <td>1986.049446</td>\n",
       "      <td>0.129539</td>\n",
       "      <td>0.072882</td>\n",
       "      <td>0.027041</td>\n",
       "      <td>0.064641</td>\n",
       "      <td>0.309039</td>\n",
       "      <td>0.054339</td>\n",
       "      <td>0.032707</td>\n",
       "      <td>0.412825</td>\n",
       "      <td>0.017512</td>\n",
       "      <td>0.011331</td>\n",
       "      <td>0.088334</td>\n",
       "      <td>0.029359</td>\n",
       "      <td>0.027298</td>\n",
       "      <td>0.121298</td>\n",
       "      <td>0.071079</td>\n",
       "      <td>0.126706</td>\n",
       "      <td>0.036827</td>\n",
       "      <td>0.017512</td>\n",
       "      <td>1986.066959</td>\n",
       "    </tr>\n",
       "    <tr>\n",
       "      <th>std</th>\n",
       "      <td>1146.778349</td>\n",
       "      <td>0.335839</td>\n",
       "      <td>0.259976</td>\n",
       "      <td>0.162224</td>\n",
       "      <td>0.245923</td>\n",
       "      <td>0.462157</td>\n",
       "      <td>0.226715</td>\n",
       "      <td>0.177891</td>\n",
       "      <td>0.492405</td>\n",
       "      <td>0.131187</td>\n",
       "      <td>0.105858</td>\n",
       "      <td>0.283816</td>\n",
       "      <td>0.168832</td>\n",
       "      <td>0.162973</td>\n",
       "      <td>0.326515</td>\n",
       "      <td>0.256990</td>\n",
       "      <td>0.332686</td>\n",
       "      <td>0.188362</td>\n",
       "      <td>0.131187</td>\n",
       "      <td>16.89569</td>\n",
       "    </tr>\n",
       "    <tr>\n",
       "      <th>min</th>\n",
       "      <td>1.000000</td>\n",
       "      <td>0.000000</td>\n",
       "      <td>0.000000</td>\n",
       "      <td>0.000000</td>\n",
       "      <td>0.000000</td>\n",
       "      <td>0.000000</td>\n",
       "      <td>0.000000</td>\n",
       "      <td>0.000000</td>\n",
       "      <td>0.000000</td>\n",
       "      <td>0.000000</td>\n",
       "      <td>0.000000</td>\n",
       "      <td>0.000000</td>\n",
       "      <td>0.000000</td>\n",
       "      <td>0.000000</td>\n",
       "      <td>0.000000</td>\n",
       "      <td>0.000000</td>\n",
       "      <td>0.000000</td>\n",
       "      <td>0.000000</td>\n",
       "      <td>0.000000</td>\n",
       "      <td>1919.0</td>\n",
       "    </tr>\n",
       "    <tr>\n",
       "      <th>25%</th>\n",
       "      <td>982.500000</td>\n",
       "      <td>0.000000</td>\n",
       "      <td>0.000000</td>\n",
       "      <td>0.000000</td>\n",
       "      <td>0.000000</td>\n",
       "      <td>0.000000</td>\n",
       "      <td>0.000000</td>\n",
       "      <td>0.000000</td>\n",
       "      <td>0.000000</td>\n",
       "      <td>0.000000</td>\n",
       "      <td>0.000000</td>\n",
       "      <td>0.000000</td>\n",
       "      <td>0.000000</td>\n",
       "      <td>0.000000</td>\n",
       "      <td>0.000000</td>\n",
       "      <td>0.000000</td>\n",
       "      <td>0.000000</td>\n",
       "      <td>0.000000</td>\n",
       "      <td>0.000000</td>\n",
       "      <td>1982.0</td>\n",
       "    </tr>\n",
       "    <tr>\n",
       "      <th>50%</th>\n",
       "      <td>2010.000000</td>\n",
       "      <td>0.000000</td>\n",
       "      <td>0.000000</td>\n",
       "      <td>0.000000</td>\n",
       "      <td>0.000000</td>\n",
       "      <td>0.000000</td>\n",
       "      <td>0.000000</td>\n",
       "      <td>0.000000</td>\n",
       "      <td>0.000000</td>\n",
       "      <td>0.000000</td>\n",
       "      <td>0.000000</td>\n",
       "      <td>0.000000</td>\n",
       "      <td>0.000000</td>\n",
       "      <td>0.000000</td>\n",
       "      <td>0.000000</td>\n",
       "      <td>0.000000</td>\n",
       "      <td>0.000000</td>\n",
       "      <td>0.000000</td>\n",
       "      <td>0.000000</td>\n",
       "      <td>1994.0</td>\n",
       "    </tr>\n",
       "    <tr>\n",
       "      <th>75%</th>\n",
       "      <td>2980.500000</td>\n",
       "      <td>0.000000</td>\n",
       "      <td>0.000000</td>\n",
       "      <td>0.000000</td>\n",
       "      <td>0.000000</td>\n",
       "      <td>1.000000</td>\n",
       "      <td>0.000000</td>\n",
       "      <td>0.000000</td>\n",
       "      <td>1.000000</td>\n",
       "      <td>0.000000</td>\n",
       "      <td>0.000000</td>\n",
       "      <td>0.000000</td>\n",
       "      <td>0.000000</td>\n",
       "      <td>0.000000</td>\n",
       "      <td>0.000000</td>\n",
       "      <td>0.000000</td>\n",
       "      <td>0.000000</td>\n",
       "      <td>0.000000</td>\n",
       "      <td>0.000000</td>\n",
       "      <td>1997.0</td>\n",
       "    </tr>\n",
       "    <tr>\n",
       "      <th>max</th>\n",
       "      <td>3952.000000</td>\n",
       "      <td>1.000000</td>\n",
       "      <td>1.000000</td>\n",
       "      <td>1.000000</td>\n",
       "      <td>1.000000</td>\n",
       "      <td>1.000000</td>\n",
       "      <td>1.000000</td>\n",
       "      <td>1.000000</td>\n",
       "      <td>1.000000</td>\n",
       "      <td>1.000000</td>\n",
       "      <td>1.000000</td>\n",
       "      <td>1.000000</td>\n",
       "      <td>1.000000</td>\n",
       "      <td>1.000000</td>\n",
       "      <td>1.000000</td>\n",
       "      <td>1.000000</td>\n",
       "      <td>1.000000</td>\n",
       "      <td>1.000000</td>\n",
       "      <td>1.000000</td>\n",
       "      <td>2000.0</td>\n",
       "    </tr>\n",
       "  </tbody>\n",
       "</table>\n",
       "</div>"
      ],
      "text/plain": [
       "          movie_id       Action    Adventure    Animation   Children's  \\\n",
       "count  3883.000000  3883.000000  3883.000000  3883.000000  3883.000000   \n",
       "mean   1986.049446     0.129539     0.072882     0.027041     0.064641   \n",
       "std    1146.778349     0.335839     0.259976     0.162224     0.245923   \n",
       "min       1.000000     0.000000     0.000000     0.000000     0.000000   \n",
       "25%     982.500000     0.000000     0.000000     0.000000     0.000000   \n",
       "50%    2010.000000     0.000000     0.000000     0.000000     0.000000   \n",
       "75%    2980.500000     0.000000     0.000000     0.000000     0.000000   \n",
       "max    3952.000000     1.000000     1.000000     1.000000     1.000000   \n",
       "\n",
       "            Comedy        Crime  Documentary        Drama      Fantasy  \\\n",
       "count  3883.000000  3883.000000  3883.000000  3883.000000  3883.000000   \n",
       "mean      0.309039     0.054339     0.032707     0.412825     0.017512   \n",
       "std       0.462157     0.226715     0.177891     0.492405     0.131187   \n",
       "min       0.000000     0.000000     0.000000     0.000000     0.000000   \n",
       "25%       0.000000     0.000000     0.000000     0.000000     0.000000   \n",
       "50%       0.000000     0.000000     0.000000     0.000000     0.000000   \n",
       "75%       1.000000     0.000000     0.000000     1.000000     0.000000   \n",
       "max       1.000000     1.000000     1.000000     1.000000     1.000000   \n",
       "\n",
       "         Film-Noir       Horror      Musical      Mystery      Romance  \\\n",
       "count  3883.000000  3883.000000  3883.000000  3883.000000  3883.000000   \n",
       "mean      0.011331     0.088334     0.029359     0.027298     0.121298   \n",
       "std       0.105858     0.283816     0.168832     0.162973     0.326515   \n",
       "min       0.000000     0.000000     0.000000     0.000000     0.000000   \n",
       "25%       0.000000     0.000000     0.000000     0.000000     0.000000   \n",
       "50%       0.000000     0.000000     0.000000     0.000000     0.000000   \n",
       "75%       0.000000     0.000000     0.000000     0.000000     0.000000   \n",
       "max       1.000000     1.000000     1.000000     1.000000     1.000000   \n",
       "\n",
       "            Sci-Fi     Thriller          War      Western         year  \n",
       "count  3883.000000  3883.000000  3883.000000  3883.000000       3883.0  \n",
       "mean      0.071079     0.126706     0.036827     0.017512  1986.066959  \n",
       "std       0.256990     0.332686     0.188362     0.131187     16.89569  \n",
       "min       0.000000     0.000000     0.000000     0.000000       1919.0  \n",
       "25%       0.000000     0.000000     0.000000     0.000000       1982.0  \n",
       "50%       0.000000     0.000000     0.000000     0.000000       1994.0  \n",
       "75%       0.000000     0.000000     0.000000     0.000000       1997.0  \n",
       "max       1.000000     1.000000     1.000000     1.000000       2000.0  "
      ]
     },
     "execution_count": 22,
     "metadata": {},
     "output_type": "execute_result"
    }
   ],
   "source": [
    "movies.describe()"
   ]
  },
  {
   "cell_type": "code",
   "execution_count": null,
   "id": "47c6a4ed-5081-4165-823d-f6cfdfe58810",
   "metadata": {},
   "outputs": [],
   "source": []
  },
  {
   "cell_type": "markdown",
   "id": "63870079-2d58-4f61-98f2-cfcbe44d02fe",
   "metadata": {},
   "source": [
    "## Targeted EDA Questions\n",
    "\n",
    "### User Behavior & Ratings Trends\n",
    "- What is the distribution of ratings (1–5)? Is it skewed?\n",
    "- What is the average rating per user? Are some users more lenient/harsh?\n",
    "- Are users more likely to give certain ratings at certain times of day?\n",
    "- How many users have rated fewer than 10 movies (i.e., cold-start users)?"
   ]
  },
  {
   "cell_type": "code",
   "execution_count": 23,
   "id": "ee9e99c3-4135-4410-805f-47bbf2ac9146",
   "metadata": {},
   "outputs": [
    {
     "data": {
      "text/plain": [
       "rating\n",
       "1    0.056162\n",
       "2    0.107535\n",
       "3    0.261142\n",
       "4    0.348898\n",
       "5    0.226263\n",
       "Name: proportion, dtype: float64"
      ]
     },
     "execution_count": 23,
     "metadata": {},
     "output_type": "execute_result"
    }
   ],
   "source": [
    "ratings['rating'].value_counts(normalize=True).sort_index()"
   ]
  },
  {
   "cell_type": "markdown",
   "id": "fffa5ec4-7901-46a7-8a2f-422745c5643c",
   "metadata": {},
   "source": [
    "#### Ratings of 4 and 5 make up over 57% of all ratings - right-skewed, meaning users are more likely to give higher ratings."
   ]
  },
  {
   "cell_type": "code",
   "execution_count": 24,
   "id": "4a422f18-b7d1-4de2-9544-97264b0c1edf",
   "metadata": {},
   "outputs": [
    {
     "data": {
      "image/png": "[encoded data removed]",
      "text/plain": [
       "<Figure size 640x480 with 1 Axes>"
      ]
     },
     "metadata": {},
     "output_type": "display_data"
    }
   ],
   "source": [
    "# Plot rating distribution\n",
    "sns.countplot(data=ratings, x='rating')\n",
    "plt.title('Distribution of Ratings')\n",
    "plt.xlabel('Rating')\n",
    "plt.ylabel('Count')\n",
    "plt.show()"
   ]
  },
  {
   "cell_type": "code",
   "execution_count": 25,
   "id": "76fd1808-ca57-48d5-ba7c-7ce9b0323792",
   "metadata": {},
   "outputs": [
    {
     "data": {
      "image/png": "[encoded data removed]",
      "text/plain": [
       "<Figure size 640x480 with 1 Axes>"
      ]
     },
     "metadata": {},
     "output_type": "display_data"
    }
   ],
   "source": [
    "# Calculate average rating per user\n",
    "user_avg = ratings.groupby('user_id')['rating'].mean()\n",
    "\n",
    "# Plot distribution of user average ratings\n",
    "sns.histplot(user_avg, bins=30, kde=True)\n",
    "plt.title('Average Rating per User')\n",
    "plt.xlabel('Average Rating')\n",
    "plt.ylabel('User Count')\n",
    "plt.show()"
   ]
  },
  {
   "cell_type": "code",
   "execution_count": 26,
   "id": "9b829bde-d24e-4c82-a146-96978ad33dcb",
   "metadata": {},
   "outputs": [
    {
     "data": {
      "text/plain": [
       "time_bucket\n",
       "afternoon    3.604108\n",
       "evening      3.596409\n",
       "night        3.572660\n",
       "morning      3.560403\n",
       "Name: rating, dtype: float64"
      ]
     },
     "execution_count": 26,
     "metadata": {},
     "output_type": "execute_result"
    }
   ],
   "source": [
    "ratings.groupby('time_bucket')['rating'].mean().sort_values(ascending=False)"
   ]
  },
  {
   "cell_type": "code",
   "execution_count": 27,
   "id": "33b96968-d656-4b75-a2e7-c5cdc26dc156",
   "metadata": {},
   "outputs": [
    {
     "data": {
      "image/png": "[encoded data removed]",
      "text/plain": [
       "<Figure size 640x480 with 1 Axes>"
      ]
     },
     "metadata": {},
     "output_type": "display_data"
    }
   ],
   "source": [
    "# Plot average rating by time bucket\n",
    "sns.boxplot(data=ratings, x='time_bucket', y='rating')\n",
    "plt.title('Rating Distribution by Time of Day')\n",
    "plt.xlabel('Time of Day')\n",
    "plt.ylabel('Rating')\n",
    "plt.show()"
   ]
  },
  {
   "cell_type": "markdown",
   "id": "4eebe70b-c55e-46de-9531-e58f112dd368",
   "metadata": {},
   "source": [
    "#### The differences are small\n",
    "### Recommendation:\n",
    "Use time_bucket as:\n",
    "An input feature to modulate content type preferences.\n",
    "A reweighting layer in hybrid models (e.g., recommend lighter content in morning, thrillers at night)."
   ]
  },
  {
   "cell_type": "code",
   "execution_count": 28,
   "id": "d5634084-7844-4c8a-a574-b4326edd3551",
   "metadata": {},
   "outputs": [
    {
     "name": "stdout",
     "output_type": "stream",
     "text": [
      "Summary stats of rating counts per user:\n",
      "count    6040.000000\n",
      "mean      165.597517\n",
      "std       192.747029\n",
      "min        20.000000\n",
      "25%        44.000000\n",
      "50%        96.000000\n",
      "75%       208.000000\n",
      "max      2314.000000\n",
      "Name: count, dtype: float64\n"
     ]
    }
   ],
   "source": [
    "# Count how many ratings each user gave\n",
    "ratings_per_user = ratings['user_id'].value_counts().sort_values(ascending=False)\n",
    "\n",
    "# Basic stats\n",
    "print(\"Summary stats of rating counts per user:\")\n",
    "print(ratings_per_user.describe())"
   ]
  },
  {
   "cell_type": "code",
   "execution_count": 29,
   "id": "36430a6f-38b2-410c-a633-081947c011fc",
   "metadata": {},
   "outputs": [
    {
     "data": {
      "image/png": "[encoded data removed]",
      "text/plain": [
       "<Figure size 640x480 with 1 Axes>"
      ]
     },
     "metadata": {},
     "output_type": "display_data"
    }
   ],
   "source": [
    "sns.histplot(ratings_per_user, bins=50, kde=False)\n",
    "plt.title('Number of Ratings per User')\n",
    "plt.xlabel('Ratings Count')\n",
    "plt.ylabel('Number of Users')\n",
    "plt.show()"
   ]
  },
  {
   "cell_type": "code",
   "execution_count": 30,
   "id": "30b5f22b-5758-4b56-b7df-9a0bf3784a05",
   "metadata": {},
   "outputs": [
    {
     "data": {
      "text/plain": [
       "user_id\n",
       "4169    2314\n",
       "1680    1850\n",
       "4277    1743\n",
       "1941    1595\n",
       "1181    1521\n",
       "Name: count, dtype: int64"
      ]
     },
     "execution_count": 30,
     "metadata": {},
     "output_type": "execute_result"
    }
   ],
   "source": [
    "ratings_per_user.head()"
   ]
  },
  {
   "cell_type": "code",
   "execution_count": 31,
   "id": "c9110b25-4a41-411b-a6aa-d3621935401f",
   "metadata": {},
   "outputs": [
    {
     "name": "stdout",
     "output_type": "stream",
     "text": [
      "Cold-start users (20 ratings): 86\n",
      "Total users: 6040\n",
      "Percentage of cold-start users: 1.42%\n"
     ]
    }
   ],
   "source": [
    "# Count cold-start users\n",
    "num_cold_start_users = (ratings_per_user <= 20).sum()\n",
    "total_users = ratings_per_user.shape[0]\n",
    "\n",
    "print(f\"Cold-start users (20 ratings): {num_cold_start_users}\")\n",
    "print(f\"Total users: {total_users}\")\n",
    "print(f\"Percentage of cold-start users: {100 * num_cold_start_users / total_users:.2f}%\")"
   ]
  },
  {
   "cell_type": "markdown",
   "id": "1d36bf14-66c8-4193-857b-0400651cbfac",
   "metadata": {},
   "source": [
    "### The dataset has a relatively strong base of active users, with most contributing well above 20 ratings.\n",
    "Cold-start users: may use content-based models."
   ]
  },
  {
   "cell_type": "markdown",
   "id": "849ce1f0-6041-48a2-85af-131e39889836",
   "metadata": {},
   "source": [
    "### Movie/Genre Patterns\n",
    "- What are the most frequent genres overall?\n",
    "- Which genres have the highest/lowest average ratings?\n",
    "- What portion of movies belong to multiple genres?\n",
    "- How many movies have fewer than 10 ratings (i.e., cold-start items)?"
   ]
  },
  {
   "cell_type": "code",
   "execution_count": 32,
   "id": "76484288-2124-4398-8af9-b0ffd8d9f97f",
   "metadata": {},
   "outputs": [],
   "source": [
    "# Sum genre one-hot columns to count movie frequency per genre\n",
    "genre_freq = movies[genre_codes.columns].sum().sort_values(ascending=False)"
   ]
  },
  {
   "cell_type": "code",
   "execution_count": 33,
   "id": "4702cc25-13be-47a6-bf6e-826fe64f20f6",
   "metadata": {},
   "outputs": [
    {
     "data": {
      "image/png": "[encoded data removed]",
      "text/plain": [
       "<Figure size 1000x400 with 1 Axes>"
      ]
     },
     "metadata": {},
     "output_type": "display_data"
    }
   ],
   "source": [
    "# Plot\n",
    "genre_freq.plot(kind='bar', title='Number of Movies per Genre', figsize=(10,4))\n",
    "plt.ylabel(\"Movie Count\")\n",
    "plt.show()"
   ]
  },
  {
   "cell_type": "markdown",
   "id": "cd45272f-3cf8-49b2-a89e-d81e8413eb73",
   "metadata": {},
   "source": [
    "### Most common genres:\n",
    "- Drama (appr 1,600 movies)\n",
    "- Comedy (appr 1,200 movies)\n",
    "\n",
    "### Rare genres:\n",
    "- Fantasy, Western, Film-Noir: fewer than 100 movies"
   ]
  },
  {
   "cell_type": "code",
   "execution_count": 34,
   "id": "96d45ae9-99bb-4ca4-85b4-3adb9481b480",
   "metadata": {},
   "outputs": [],
   "source": [
    "# Merge ratings and movies\n",
    "ratings_with_genre = ratings.merge(movies[['movie_id'] + genre_codes.columns.tolist()], on='movie_id')\n",
    "\n",
    "# Calculate mean rating per genre\n",
    "genre_avg_ratings = {}\n",
    "for genre in genre_codes.columns:\n",
    "    genre_avg_ratings[genre] = ratings_with_genre[ratings_with_genre[genre] == 1]['rating'].mean()\n",
    "\n",
    "# Convert to series and sort\n",
    "genre_avg_ratings = pd.Series(genre_avg_ratings).sort_values(ascending=False)"
   ]
  },
  {
   "cell_type": "code",
   "execution_count": 35,
   "id": "0870980d-9fde-4c0d-9cfa-3e27af5105df",
   "metadata": {},
   "outputs": [
    {
     "data": {
      "image/png": "[encoded data removed]",
      "text/plain": [
       "<Figure size 1000x400 with 1 Axes>"
      ]
     },
     "metadata": {},
     "output_type": "display_data"
    }
   ],
   "source": [
    "# Plot\n",
    "genre_avg_ratings.plot(kind='bar', title='Average Rating per Genre', figsize=(10,4))\n",
    "plt.ylabel(\"Average Rating\")\n",
    "plt.show()"
   ]
  },
  {
   "cell_type": "markdown",
   "id": "a2fde643-c253-44cb-a246-540cb5f508cc",
   "metadata": {},
   "source": [
    "#### Users show a clear preference for serious or artistic genres like Film-Noir and Documentaries.\n",
    "\n",
    "#### Horror tends to receive lower ratings\n",
    "- This can guide genre-aware weighting in content-based recommendations."
   ]
  },
  {
   "cell_type": "code",
   "execution_count": 36,
   "id": "881d2ff2-df77-4123-b626-9199370f65f8",
   "metadata": {},
   "outputs": [
    {
     "name": "stdout",
     "output_type": "stream",
     "text": [
      "Percentage of movies with multiple genres: 47.85%\n"
     ]
    }
   ],
   "source": [
    "# Count how many genres each movie has\n",
    "movies['genre_count'] = movies[genre_codes.columns].sum(axis=1)\n",
    "\n",
    "# Calculate percentage with multiple genres\n",
    "multi_genre_pct = (movies['genre_count'] > 1).mean() * 100\n",
    "print(f\"Percentage of movies with multiple genres: {multi_genre_pct:.2f}%\")"
   ]
  },
  {
   "cell_type": "markdown",
   "id": "44af9eb7-8640-4885-b529-435fda96fabb",
   "metadata": {},
   "source": [
    "- Nearly half the dataset consists of hybrid-genre films\n",
    "- Useful for content-based filtering — shared genres can improve similarity measures between movies."
   ]
  },
  {
   "cell_type": "code",
   "execution_count": 37,
   "id": "2379e39a-4816-42bb-a2ad-d0ac8eb770b2",
   "metadata": {},
   "outputs": [
    {
     "name": "stdout",
     "output_type": "stream",
     "text": [
      "Cold-start movies (<10 ratings): 446\n",
      "Total movies: 3706\n",
      "Percentage of cold-start movies: 12.03%\n"
     ]
    }
   ],
   "source": [
    "# Count ratings per movie\n",
    "ratings_per_movie = ratings['movie_id'].value_counts()\n",
    "\n",
    "# Cold-start: movies with < 10 ratings\n",
    "cold_start_movies = (ratings_per_movie < 10).sum()\n",
    "total_movies = ratings['movie_id'].nunique()\n",
    "\n",
    "print(f\"Cold-start movies (<10 ratings): {cold_start_movies}\")\n",
    "print(f\"Total movies: {total_movies}\")\n",
    "print(f\"Percentage of cold-start movies: {100 * cold_start_movies / total_movies:.2f}%\")"
   ]
  },
  {
   "cell_type": "markdown",
   "id": "69231d85-774d-4c6d-8972-1a52680bf959",
   "metadata": {},
   "source": [
    "### over 1 in 10 movies lack enough interaction data\n",
    "may handle them using:\n",
    "- Content features (metadata, embeddings)\n",
    "- Session-aware fallback rules"
   ]
  },
  {
   "cell_type": "markdown",
   "id": "c1cf72d2-ce81-4f54-9d09-79cfbc95a3f5",
   "metadata": {},
   "source": [
    "### Cold Start Detection\n",
    "- Are certain genres or years overrepresented in cold-start movies?\n",
    "- Do movies with very few ratings still follow genre popularity patterns?"
   ]
  },
  {
   "cell_type": "code",
   "execution_count": 38,
   "id": "8f3991a4-e08d-499d-9430-9f0745df4492",
   "metadata": {},
   "outputs": [],
   "source": [
    "# Identify cold-start movie IDs (< 10 ratings)\n",
    "cold_start_ids = ratings_per_movie[ratings_per_movie < 10].index\n",
    "\n",
    "# Create cold-start and non-cold-start subsets\n",
    "cold_movies = movies[movies['movie_id'].isin(cold_start_ids)]\n",
    "non_cold_movies = movies[~movies['movie_id'].isin(cold_start_ids)]"
   ]
  },
  {
   "cell_type": "code",
   "execution_count": 39,
   "id": "b0971d4f-63ea-4624-adfb-b0f0258f5999",
   "metadata": {},
   "outputs": [
    {
     "data": {
      "text/html": [
       "<div>\n",
       "<style scoped>\n",
       "    .dataframe tbody tr th:only-of-type {\n",
       "        vertical-align: middle;\n",
       "    }\n",
       "\n",
       "    .dataframe tbody tr th {\n",
       "        vertical-align: top;\n",
       "    }\n",
       "\n",
       "    .dataframe thead th {\n",
       "        text-align: right;\n",
       "    }\n",
       "</style>\n",
       "<table border=\"1\" class=\"dataframe\">\n",
       "  <thead>\n",
       "    <tr style=\"text-align: right;\">\n",
       "      <th></th>\n",
       "      <th>Cold Start %</th>\n",
       "      <th>Overall %</th>\n",
       "    </tr>\n",
       "  </thead>\n",
       "  <tbody>\n",
       "    <tr>\n",
       "      <th>Drama</th>\n",
       "      <td>52.91</td>\n",
       "      <td>41.28</td>\n",
       "    </tr>\n",
       "    <tr>\n",
       "      <th>Comedy</th>\n",
       "      <td>24.44</td>\n",
       "      <td>30.90</td>\n",
       "    </tr>\n",
       "    <tr>\n",
       "      <th>Documentary</th>\n",
       "      <td>8.74</td>\n",
       "      <td>3.27</td>\n",
       "    </tr>\n",
       "    <tr>\n",
       "      <th>Thriller</th>\n",
       "      <td>7.17</td>\n",
       "      <td>12.67</td>\n",
       "    </tr>\n",
       "    <tr>\n",
       "      <th>Romance</th>\n",
       "      <td>6.50</td>\n",
       "      <td>12.13</td>\n",
       "    </tr>\n",
       "    <tr>\n",
       "      <th>Horror</th>\n",
       "      <td>6.28</td>\n",
       "      <td>8.83</td>\n",
       "    </tr>\n",
       "    <tr>\n",
       "      <th>Action</th>\n",
       "      <td>5.61</td>\n",
       "      <td>12.95</td>\n",
       "    </tr>\n",
       "    <tr>\n",
       "      <th>Adventure</th>\n",
       "      <td>3.14</td>\n",
       "      <td>7.29</td>\n",
       "    </tr>\n",
       "    <tr>\n",
       "      <th>Crime</th>\n",
       "      <td>2.91</td>\n",
       "      <td>5.43</td>\n",
       "    </tr>\n",
       "    <tr>\n",
       "      <th>Sci-Fi</th>\n",
       "      <td>2.24</td>\n",
       "      <td>7.11</td>\n",
       "    </tr>\n",
       "    <tr>\n",
       "      <th>Mystery</th>\n",
       "      <td>1.57</td>\n",
       "      <td>2.73</td>\n",
       "    </tr>\n",
       "    <tr>\n",
       "      <th>War</th>\n",
       "      <td>1.35</td>\n",
       "      <td>3.68</td>\n",
       "    </tr>\n",
       "    <tr>\n",
       "      <th>Western</th>\n",
       "      <td>1.35</td>\n",
       "      <td>1.75</td>\n",
       "    </tr>\n",
       "    <tr>\n",
       "      <th>Musical</th>\n",
       "      <td>1.35</td>\n",
       "      <td>2.94</td>\n",
       "    </tr>\n",
       "    <tr>\n",
       "      <th>Children's</th>\n",
       "      <td>1.35</td>\n",
       "      <td>6.46</td>\n",
       "    </tr>\n",
       "    <tr>\n",
       "      <th>Film-Noir</th>\n",
       "      <td>0.90</td>\n",
       "      <td>1.13</td>\n",
       "    </tr>\n",
       "    <tr>\n",
       "      <th>Fantasy</th>\n",
       "      <td>0.45</td>\n",
       "      <td>1.75</td>\n",
       "    </tr>\n",
       "    <tr>\n",
       "      <th>Animation</th>\n",
       "      <td>0.22</td>\n",
       "      <td>2.70</td>\n",
       "    </tr>\n",
       "  </tbody>\n",
       "</table>\n",
       "</div>"
      ],
      "text/plain": [
       "             Cold Start %  Overall %\n",
       "Drama               52.91      41.28\n",
       "Comedy              24.44      30.90\n",
       "Documentary          8.74       3.27\n",
       "Thriller             7.17      12.67\n",
       "Romance              6.50      12.13\n",
       "Horror               6.28       8.83\n",
       "Action               5.61      12.95\n",
       "Adventure            3.14       7.29\n",
       "Crime                2.91       5.43\n",
       "Sci-Fi               2.24       7.11\n",
       "Mystery              1.57       2.73\n",
       "War                  1.35       3.68\n",
       "Western              1.35       1.75\n",
       "Musical              1.35       2.94\n",
       "Children's           1.35       6.46\n",
       "Film-Noir            0.90       1.13\n",
       "Fantasy              0.45       1.75\n",
       "Animation            0.22       2.70"
      ]
     },
     "metadata": {},
     "output_type": "display_data"
    }
   ],
   "source": [
    "# Calculate genre proportions\n",
    "cold_genre_dist = cold_movies[genre_codes.columns].sum() / len(cold_movies)\n",
    "overall_genre_dist = movies[genre_codes.columns].sum() / len(movies)\n",
    "\n",
    "# Compare distributions\n",
    "genre_compare = pd.DataFrame({\n",
    "    'Cold Start %': (cold_genre_dist * 100).round(2),\n",
    "    'Overall %': (overall_genre_dist * 100).round(2)\n",
    "})\n",
    "display(genre_compare.sort_values('Cold Start %', ascending=False))"
   ]
  },
  {
   "cell_type": "markdown",
   "id": "69d28d09-1edf-46e6-9883-63eab2c6173a",
   "metadata": {},
   "source": [
    "- Drama and Documentary dominate among cold-starts"
   ]
  },
  {
   "cell_type": "code",
   "execution_count": 40,
   "id": "31a9702f-6c3f-45c8-9ae8-637c682f80f8",
   "metadata": {},
   "outputs": [
    {
     "data": {
      "image/png": "[encoded data removed]",
      "text/plain": [
       "<Figure size 640x480 with 1 Axes>"
      ]
     },
     "metadata": {},
     "output_type": "display_data"
    }
   ],
   "source": [
    "# Distribution of years\n",
    "cold_year_dist = cold_movies['year'].value_counts().sort_index()\n",
    "overall_year_dist = movies['year'].value_counts().sort_index()\n",
    "\n",
    "# Normalize and plot\n",
    "((cold_year_dist / cold_year_dist.sum()) * 100).plot(label='Cold-start %')\n",
    "((overall_year_dist / overall_year_dist.sum()) * 100).plot(label='Overall %')\n",
    "plt.title('Cold-start vs. Overall Movies by Year')\n",
    "plt.xlabel('Year')\n",
    "plt.ylabel('Percentage')\n",
    "plt.legend()\n",
    "plt.show()"
   ]
  },
  {
   "cell_type": "markdown",
   "id": "aed54712-06d5-4ab3-909b-e1967bba3eed",
   "metadata": {},
   "source": [
    "### Session/Time-of-Day Behavior\n",
    "- What are the most active times of day for rating (hour buckets)?\n",
    "- Does genre preference vary by time bucket (e.g., thrillers at night)?"
   ]
  },
  {
   "cell_type": "code",
   "execution_count": 41,
   "id": "b380f06a-48df-4833-9034-609b02b2113c",
   "metadata": {},
   "outputs": [
    {
     "data": {
      "text/plain": [
       "time_bucket\n",
       "night        0.503150\n",
       "evening      0.231565\n",
       "afternoon    0.152310\n",
       "morning      0.112975\n",
       "Name: proportion, dtype: float64"
      ]
     },
     "execution_count": 41,
     "metadata": {},
     "output_type": "execute_result"
    }
   ],
   "source": [
    "ratings['time_bucket'].value_counts(normalize=True).sort_values(ascending=False)"
   ]
  },
  {
   "cell_type": "markdown",
   "id": "8ef5edb1-361a-4e9a-8038-64412060e208",
   "metadata": {},
   "source": [
    "Nighttime dominates user engagement, with over 50% of all ratings."
   ]
  },
  {
   "cell_type": "code",
   "execution_count": 42,
   "id": "48aa09a5-fb1c-47c2-9be7-9098405ac897",
   "metadata": {},
   "outputs": [],
   "source": [
    "# Count ratings per genre per time bucket\n",
    "genre_time_counts = ratings_with_genre.groupby('time_bucket')[genre_codes.columns].sum()"
   ]
  },
  {
   "cell_type": "code",
   "execution_count": 43,
   "id": "b36bac42-8d86-438d-99c7-e033a9737190",
   "metadata": {},
   "outputs": [
    {
     "data": {
      "image/png": "[encoded data removed]",
      "text/plain": [
       "<Figure size 1200x600 with 1 Axes>"
      ]
     },
     "metadata": {},
     "output_type": "display_data"
    }
   ],
   "source": [
    "# Plot\n",
    "genre_time_counts.T.plot(kind='bar', figsize=(12, 6), title='Genre Distribution per Time Bucket')\n",
    "plt.ylabel('Number of Rated Movies')\n",
    "plt.show()"
   ]
  },
  {
   "cell_type": "markdown",
   "id": "99b3459c-4858-4028-aeb4-78a1138757c7",
   "metadata": {},
   "source": [
    "No significant genre-specific peaks detected by time."
   ]
  },
  {
   "cell_type": "markdown",
   "id": "4a3e9636-2f08-4e2d-b004-bea75e20f1b1",
   "metadata": {},
   "source": [
    "### User Engagement\n",
    "- How does engagement vary across demographics (age, gender)?"
   ]
  },
  {
   "cell_type": "code",
   "execution_count": 44,
   "id": "56293f86-3423-47e8-82cd-88206bb87dc8",
   "metadata": {},
   "outputs": [],
   "source": [
    "# Merge ratings with user info\n",
    "users.rename(columns={'userID': 'user_id'}, inplace=True)\n",
    "ratings_users = ratings.merge(users, on='user_id')"
   ]
  },
  {
   "cell_type": "code",
   "execution_count": 45,
   "id": "da33c306-acce-4aba-8f6f-826b74666a17",
   "metadata": {},
   "outputs": [
    {
     "data": {
      "text/plain": [
       "gender\n",
       "F    246440\n",
       "M    753769\n",
       "Name: user_id, dtype: int64"
      ]
     },
     "execution_count": 45,
     "metadata": {},
     "output_type": "execute_result"
    }
   ],
   "source": [
    "ratings_users.groupby('gender')['user_id'].count()"
   ]
  },
  {
   "cell_type": "code",
   "execution_count": 46,
   "id": "d0f70336-9fc1-45ca-9561-4a0a443523c1",
   "metadata": {},
   "outputs": [
    {
     "data": {
      "text/plain": [
       "age\n",
       "25    395556\n",
       "35    199003\n",
       "18    183536\n",
       "45     83633\n",
       "50     72490\n",
       "56     38780\n",
       "1      27211\n",
       "Name: user_id, dtype: int64"
      ]
     },
     "execution_count": 46,
     "metadata": {},
     "output_type": "execute_result"
    }
   ],
   "source": [
    "ratings_users.groupby('age')['user_id'].count().sort_values(ascending=False)"
   ]
  },
  {
   "cell_type": "markdown",
   "id": "33f7c06b-aa4d-4d33-82e9-ce3efbed1bcc",
   "metadata": {},
   "source": [
    "### Male users contribute 3× more ratings than female users\n",
    "### Younger adults (18–44) dominate engagement"
   ]
  },
  {
   "cell_type": "markdown",
   "id": "a84c8d4b-342d-45b8-ac43-d72921a31877",
   "metadata": {},
   "source": [
    "#### Other Targeted EDA questions: \n",
    "\n",
    "- Which genres do different age groups prefer? \n",
    "\n"
   ]
  },
  {
   "cell_type": "code",
   "execution_count": null,
   "id": "e508f504-519e-4a9b-b4da-59036c79dc58",
   "metadata": {},
   "outputs": [
    {
     "data": {
      "text/html": [
       "<div>\n",
       "<style scoped>\n",
       "    .dataframe tbody tr th:only-of-type {\n",
       "        vertical-align: middle;\n",
       "    }\n",
       "\n",
       "    .dataframe tbody tr th {\n",
       "        vertical-align: top;\n",
       "    }\n",
       "\n",
       "    .dataframe thead th {\n",
       "        text-align: right;\n",
       "    }\n",
       "</style>\n",
       "<table border=\"1\" class=\"dataframe\">\n",
       "  <thead>\n",
       "    <tr style=\"text-align: right;\">\n",
       "      <th></th>\n",
       "      <th>age_group</th>\n",
       "      <th>genre</th>\n",
       "      <th>rating</th>\n",
       "    </tr>\n",
       "  </thead>\n",
       "  <tbody>\n",
       "    <tr>\n",
       "      <th>9</th>\n",
       "      <td>18-25</td>\n",
       "      <td>Film-Noir</td>\n",
       "      <td>4.058725</td>\n",
       "    </tr>\n",
       "    <tr>\n",
       "      <th>6</th>\n",
       "      <td>18-25</td>\n",
       "      <td>Documentary</td>\n",
       "      <td>3.946690</td>\n",
       "    </tr>\n",
       "    <tr>\n",
       "      <th>16</th>\n",
       "      <td>18-25</td>\n",
       "      <td>War</td>\n",
       "      <td>3.841240</td>\n",
       "    </tr>\n",
       "    <tr>\n",
       "      <th>27</th>\n",
       "      <td>26-35</td>\n",
       "      <td>Film-Noir</td>\n",
       "      <td>4.064910</td>\n",
       "    </tr>\n",
       "    <tr>\n",
       "      <th>24</th>\n",
       "      <td>26-35</td>\n",
       "      <td>Documentary</td>\n",
       "      <td>3.953747</td>\n",
       "    </tr>\n",
       "    <tr>\n",
       "      <th>34</th>\n",
       "      <td>26-35</td>\n",
       "      <td>War</td>\n",
       "      <td>3.901130</td>\n",
       "    </tr>\n",
       "    <tr>\n",
       "      <th>45</th>\n",
       "      <td>36-45</td>\n",
       "      <td>Film-Noir</td>\n",
       "      <td>4.105376</td>\n",
       "    </tr>\n",
       "    <tr>\n",
       "      <th>42</th>\n",
       "      <td>36-45</td>\n",
       "      <td>Documentary</td>\n",
       "      <td>3.966521</td>\n",
       "    </tr>\n",
       "    <tr>\n",
       "      <th>52</th>\n",
       "      <td>36-45</td>\n",
       "      <td>War</td>\n",
       "      <td>3.960554</td>\n",
       "    </tr>\n",
       "    <tr>\n",
       "      <th>63</th>\n",
       "      <td>46-55</td>\n",
       "      <td>Film-Noir</td>\n",
       "      <td>4.175401</td>\n",
       "    </tr>\n",
       "    <tr>\n",
       "      <th>70</th>\n",
       "      <td>46-55</td>\n",
       "      <td>War</td>\n",
       "      <td>3.974184</td>\n",
       "    </tr>\n",
       "    <tr>\n",
       "      <th>60</th>\n",
       "      <td>46-55</td>\n",
       "      <td>Documentary</td>\n",
       "      <td>3.908108</td>\n",
       "    </tr>\n",
       "    <tr>\n",
       "      <th>81</th>\n",
       "      <td>55+</td>\n",
       "      <td>Film-Noir</td>\n",
       "      <td>4.125932</td>\n",
       "    </tr>\n",
       "    <tr>\n",
       "      <th>88</th>\n",
       "      <td>55+</td>\n",
       "      <td>War</td>\n",
       "      <td>4.067285</td>\n",
       "    </tr>\n",
       "    <tr>\n",
       "      <th>78</th>\n",
       "      <td>55+</td>\n",
       "      <td>Documentary</td>\n",
       "      <td>3.961538</td>\n",
       "    </tr>\n",
       "    <tr>\n",
       "      <th>99</th>\n",
       "      <td>Under 18</td>\n",
       "      <td>Film-Noir</td>\n",
       "      <td>4.016092</td>\n",
       "    </tr>\n",
       "    <tr>\n",
       "      <th>106</th>\n",
       "      <td>Under 18</td>\n",
       "      <td>War</td>\n",
       "      <td>3.858497</td>\n",
       "    </tr>\n",
       "    <tr>\n",
       "      <th>96</th>\n",
       "      <td>Under 18</td>\n",
       "      <td>Documentary</td>\n",
       "      <td>3.851363</td>\n",
       "    </tr>\n",
       "  </tbody>\n",
       "</table>\n",
       "</div>"
      ],
      "text/plain": [
       "    age_group        genre    rating\n",
       "9       18-25    Film-Noir  4.058725\n",
       "6       18-25  Documentary  3.946690\n",
       "16      18-25          War  3.841240\n",
       "27      26-35    Film-Noir  4.064910\n",
       "24      26-35  Documentary  3.953747\n",
       "34      26-35          War  3.901130\n",
       "45      36-45    Film-Noir  4.105376\n",
       "42      36-45  Documentary  3.966521\n",
       "52      36-45          War  3.960554\n",
       "63      46-55    Film-Noir  4.175401\n",
       "70      46-55          War  3.974184\n",
       "60      46-55  Documentary  3.908108\n",
       "81        55+    Film-Noir  4.125932\n",
       "88        55+          War  4.067285\n",
       "78        55+  Documentary  3.961538\n",
       "99   Under 18    Film-Noir  4.016092\n",
       "106  Under 18          War  3.858497\n",
       "96   Under 18  Documentary  3.851363"
      ]
     },
     "execution_count": 50,
     "metadata": {},
     "output_type": "execute_result"
    }
   ],
   "source": [
    "def analyze_genre_preferences_by_age():\n",
    "    \"\"\"\n",
    "    Do different age groups prefer different movie genres?\n",
    "    Target marketing campaigns by age demographics\n",
    "    \"\"\"\n",
    "    \n",
    "    \n",
    "    merged_data = ratings.merge(movies, on='movie_id').merge(users, on='user_id')\n",
    "    \n",
    "    # Create age groups\n",
    "    merged_data['age_group'] = pd.cut(merged_data['age'], \n",
    "                                     bins=[0, 18, 25, 35, 45, 55, 100], \n",
    "                                     labels=['Under 18', '18-25', '26-35', '36-45', '46-55', '55+'])\n",
    "    \n",
    "    # Split genres and create genre preferences by age\n",
    "    genre_age_data = []\n",
    "    for _, row in merged_data.iterrows():\n",
    "        genres = row['genres'].split('|')\n",
    "        for genre in genres:\n",
    "            genre_age_data.append({\n",
    "                'age_group': row['age_group'],\n",
    "                'genre': genre,\n",
    "                'rating': row['rating']\n",
    "            })\n",
    "    \n",
    "    genre_age_df = pd.DataFrame(genre_age_data)\n",
    "    \n",
    "    # average rating and count by age group and genre\n",
    "    genre_age_summary = genre_age_df.groupby(['age_group', 'genre']).agg({\n",
    "        'rating': ['mean', 'count']\n",
    "    }).round(2)\n",
    "    \n",
    "    # Top 3 genres for each age group \n",
    "    top_genres_by_age = genre_age_df.groupby(['age_group', 'genre'])['rating'].mean().reset_index()\n",
    "    top_genres_by_age = top_genres_by_age.sort_values(['age_group', 'rating'], ascending=[True, False])\n",
    "    result = top_genres_by_age.groupby('age_group').head(3)\n",
    "    \n",
    "    return result\n",
    "\n",
    "analyze_genre_preferences_by_age()"
   ]
  },
  {
   "cell_type": "markdown",
   "id": "05cf2c43",
   "metadata": {},
   "source": [
    "- Which movies are the most polarizing? Which movies are likely to hit home everytime? "
   ]
  },
  {
   "cell_type": "code",
   "execution_count": null,
   "id": "2230722e",
   "metadata": {},
   "outputs": [
    {
     "name": "stdout",
     "output_type": "stream",
     "text": [
      "Most Controversial Movies (High Rating Variance):\n",
      "                                               title      mean       std  \\\n",
      "1149                                Braindead (1992)  3.357143  1.464910   \n",
      "1744                  Plan 9 from Outer Space (1958)  2.634538  1.455998   \n",
      "2313                   Breakfast of Champions (1999)  2.981481  1.407403   \n",
      "2083                       Six-String Samurai (1998)  3.366197  1.406510   \n",
      "2169                           Glen or Glenda (1953)  2.849057  1.392234   \n",
      "3476                            American Pimp (1999)  3.311475  1.372844   \n",
      "2122                                  Beloved (1998)  3.134615  1.372813   \n",
      "3618  Godzilla 2000 (Gojira ni-sen mireniamu) (1999)  2.692308  1.364700   \n",
      "3113                     Bride of the Monster (1956)  2.802817  1.358778   \n",
      "2266             Texas Chainsaw Massacre, The (1974)  3.222672  1.332448   \n",
      "\n",
      "      count  \n",
      "1149     70  \n",
      "1744    249  \n",
      "2313     54  \n",
      "2083     71  \n",
      "2169     53  \n",
      "3476     61  \n",
      "2122    104  \n",
      "3618    143  \n",
      "3113     71  \n",
      "2266    247  \n",
      "\n",
      "Most Consistently Rated Movies:\n",
      "                                           title      mean       std  count\n",
      "2698                              Sanjuro (1962)  4.608696  0.599446     69\n",
      "708                        Close Shave, A (1995)  4.520548  0.667143    657\n",
      "1603               Four Days in September (1997)  3.980392  0.677944     51\n",
      "843                           Rear Window (1954)  4.476190  0.688946   1050\n",
      "1170                    Great Escape, The (1963)  4.376437  0.692585    696\n",
      "309             Shawshank Redemption, The (1994)  4.554558  0.700443   2227\n",
      "2279                           Tough Guys (1986)  2.978495  0.706776     93\n",
      "1066                  Wrong Trousers, The (1993)  4.507937  0.708666    882\n",
      "2164  Central Station (Central do Brasil) (1998)  4.283721  0.709393    215\n",
      "3120                       Never Cry Wolf (1983)  3.981132  0.721782    212\n"
     ]
    },
    {
     "data": {
      "text/plain": [
       "(                                               title      mean       std  \\\n",
       " 1149                                Braindead (1992)  3.357143  1.464910   \n",
       " 1744                  Plan 9 from Outer Space (1958)  2.634538  1.455998   \n",
       " 2313                   Breakfast of Champions (1999)  2.981481  1.407403   \n",
       " 2083                       Six-String Samurai (1998)  3.366197  1.406510   \n",
       " 2169                           Glen or Glenda (1953)  2.849057  1.392234   \n",
       " 3476                            American Pimp (1999)  3.311475  1.372844   \n",
       " 2122                                  Beloved (1998)  3.134615  1.372813   \n",
       " 3618  Godzilla 2000 (Gojira ni-sen mireniamu) (1999)  2.692308  1.364700   \n",
       " 3113                     Bride of the Monster (1956)  2.802817  1.358778   \n",
       " 2266             Texas Chainsaw Massacre, The (1974)  3.222672  1.332448   \n",
       " \n",
       "       count  \n",
       " 1149     70  \n",
       " 1744    249  \n",
       " 2313     54  \n",
       " 2083     71  \n",
       " 2169     53  \n",
       " 3476     61  \n",
       " 2122    104  \n",
       " 3618    143  \n",
       " 3113     71  \n",
       " 2266    247  ,\n",
       "                                            title      mean       std  count\n",
       " 2698                              Sanjuro (1962)  4.608696  0.599446     69\n",
       " 708                        Close Shave, A (1995)  4.520548  0.667143    657\n",
       " 1603               Four Days in September (1997)  3.980392  0.677944     51\n",
       " 843                           Rear Window (1954)  4.476190  0.688946   1050\n",
       " 1170                    Great Escape, The (1963)  4.376437  0.692585    696\n",
       " 309             Shawshank Redemption, The (1994)  4.554558  0.700443   2227\n",
       " 2279                           Tough Guys (1986)  2.978495  0.706776     93\n",
       " 1066                  Wrong Trousers, The (1993)  4.507937  0.708666    882\n",
       " 2164  Central Station (Central do Brasil) (1998)  4.283721  0.709393    215\n",
       " 3120                       Never Cry Wolf (1983)  3.981132  0.721782    212)"
      ]
     },
     "execution_count": 55,
     "metadata": {},
     "output_type": "execute_result"
    }
   ],
   "source": [
    "def find_controversial_movies():\n",
    "    \"\"\"\n",
    "    Which movies divide audiences the most?\n",
    "    Identify polarizing content for targeted marketing, consistent content for safe recommendations. \n",
    "    \"\"\"\n",
    "    \n",
    "    # Calculate rating statistics per movie\n",
    "    movie_stats = ratings.groupby('movie_id')['rating'].agg(['mean', 'std', 'count']).reset_index()\n",
    "    movie_stats = movie_stats.merge(movies, on='movie_id')\n",
    "    \n",
    "    # Filter movies with at least 50 ratings for statistical significance\n",
    "    popular_movies = movie_stats[movie_stats['count'] >= 50]\n",
    "    \n",
    "    # Most controversial (highest standard deviation)\n",
    "    most_controversial = popular_movies.nlargest(10, 'std')[['title', 'mean', 'std', 'count']]\n",
    "    \n",
    "    # Most consistent (lowest standard deviation)\n",
    "    most_consistent = popular_movies.nsmallest(10, 'std')[['title', 'mean', 'std', 'count']]\n",
    "    \n",
    "    print(\"Most Controversial Movies (High Rating Variance):\")\n",
    "    print(most_controversial)\n",
    "    print(\"\\nMost Consistently Rated Movies:\")\n",
    "    print(most_consistent)\n",
    "\n",
    "    \n",
    "    \n",
    "    return most_controversial, most_consistent\n",
    "\n",
    "find_controversial_movies()"
   ]
  },
  {
   "cell_type": "markdown",
   "id": "e932fb18",
   "metadata": {},
   "source": [
    "- What genres perform the best over time (having trouble with this) "
   ]
  },
  {
   "cell_type": "markdown",
   "id": "3fbfea4d",
   "metadata": {},
   "source": [
    "- Which users give the highest quality and consistent feedback? "
   ]
  },
  {
   "cell_type": "code",
   "execution_count": null,
   "id": "6b3086a8",
   "metadata": {},
   "outputs": [
    {
     "name": "stdout",
     "output_type": "stream",
     "text": [
      "Top User Segments (Power Users):\n",
      "   gender  occupation  count\n",
      "19      M           0     77\n",
      "23      M           4     60\n",
      "26      M           7     55\n",
      "35      M          16     33\n",
      "39      M          20     32\n",
      "36      M          17     32\n",
      "20      M           1     29\n",
      "21      M           2     25\n",
      "31      M          12     23\n",
      "33      M          14     22\n"
     ]
    },
    {
     "data": {
      "text/plain": [
       "(      user_id  rating_count  avg_rating  rating_std  age gender  occupation\n",
       " 9          10           401        4.11        0.84   35      F           1\n",
       " 25         26           400        2.96        1.03   25      M           7\n",
       " 47         48           598        3.07        0.82   25      M           4\n",
       " 52         53           684        4.24        0.95   25      M           0\n",
       " 57         58           437        3.97        0.99   25      M           2\n",
       " ...       ...           ...         ...         ...  ...    ...         ...\n",
       " 5971     5972           437        3.71        0.90   25      F          20\n",
       " 5995     5996           591        3.81        0.96   25      F           0\n",
       " 5999     6000           506        3.25        0.91   45      M          17\n",
       " 6015     6016           909        3.19        0.93   45      M           1\n",
       " 6035     6036           888        3.30        1.02   25      F          15\n",
       " \n",
       " [605 rows x 7 columns],\n",
       "    gender  occupation  count\n",
       " 19      M           0     77\n",
       " 23      M           4     60\n",
       " 26      M           7     55\n",
       " 35      M          16     33\n",
       " 39      M          20     32\n",
       " 36      M          17     32\n",
       " 20      M           1     29\n",
       " 21      M           2     25\n",
       " 31      M          12     23\n",
       " 33      M          14     22\n",
       " 1       F           1     20\n",
       " 0       F           0     17\n",
       " 4       F           4     16\n",
       " 22      M           3     16\n",
       " 25      M           6     15\n",
       " 2       F           2     11\n",
       " 34      M          15     11\n",
       " 30      M          11     11\n",
       " 18      F          20     11\n",
       " 24      M           5     10\n",
       " 7       F           7     10\n",
       " 6       F           6      9\n",
       " 38      M          19      7\n",
       " 37      M          18      7\n",
       " 3       F           3      6\n",
       " 13      F          14      6\n",
       " 17      F          19      5\n",
       " 29      M          10      4\n",
       " 16      F          17      4\n",
       " 15      F          16      3\n",
       " 9       F           9      3\n",
       " 14      F          15      2\n",
       " 12      F          12      2\n",
       " 32      M          13      2\n",
       " 11      F          11      2\n",
       " 10      F          10      2\n",
       " 5       F           5      2\n",
       " 27      M           8      1\n",
       " 28      M           9      1\n",
       " 8       F           8      1)"
      ]
     },
     "execution_count": 56,
     "metadata": {},
     "output_type": "execute_result"
    }
   ],
   "source": [
    "def identify_valuable_user_segments():\n",
    "    \"\"\"\n",
    "    Which users provide the most ratings and highest quality feedback?\n",
    "    Focus retention efforts on high-value users\n",
    "    \"\"\"\n",
    "    \n",
    "    merged_data = ratings.merge(users, on='user_id')\n",
    "    \n",
    "    # User activity analysis\n",
    "    user_activity = merged_data.groupby('user_id').agg({\n",
    "        'rating': ['count', 'mean', 'std'],\n",
    "        'age': 'first',\n",
    "        'gender': 'first',\n",
    "        'occupation': 'first'\n",
    "    }).round(2)\n",
    "    \n",
    "    user_activity.columns = ['rating_count', 'avg_rating', 'rating_std', 'age', 'gender', 'occupation']\n",
    "    user_activity = user_activity.reset_index()\n",
    "    \n",
    "    # Identify power users (top 10% by rating count)\n",
    "    power_user_threshold = user_activity['rating_count'].quantile(0.9)\n",
    "    power_users = user_activity[user_activity['rating_count'] >= power_user_threshold]\n",
    "    \n",
    "    # Power user demographics\n",
    "    power_user_demographics = power_users.groupby(['gender', 'occupation']).size().reset_index(name='count')\n",
    "    power_user_demographics = power_user_demographics.sort_values('count', ascending=False)\n",
    "    \n",
    "    print(\"Top User Segments (Power Users):\")\n",
    "    print(power_user_demographics.head(10))\n",
    "    \n",
    "    return power_users, power_user_demographics\n",
    "\n",
    "identify_valuable_user_segments()"
   ]
  },
  {
   "cell_type": "code",
   "execution_count": null,
   "id": "65356f8a",
   "metadata": {},
   "outputs": [],
   "source": []
  }
 ],
 "metadata": {
  "kernelspec": {
   "display_name": "base",
   "language": "python",
   "name": "python3"
  },
  "language_info": {
   "codemirror_mode": {
    "name": "ipython",
    "version": 3
   },
   "file_extension": ".py",
   "mimetype": "text/x-python",
   "name": "python",
   "nbconvert_exporter": "python",
   "pygments_lexer": "ipython3",
   "version": "3.12.7"
  }
 },
 "nbformat": 4,
 "nbformat_minor": 5
}
